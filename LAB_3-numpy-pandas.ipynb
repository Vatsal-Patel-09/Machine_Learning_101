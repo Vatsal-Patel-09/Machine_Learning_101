{
  "cells": [
    {
      "cell_type": "markdown",
      "metadata": {
        "id": "view-in-github",
        "colab_type": "text"
      },
      "source": [
        "<a href=\"https://colab.research.google.com/github/Vatsal-Patel-09/Machine_Learning_101/blob/main/LAB_1-nppy.ipynb\" target=\"_parent\"><img src=\"https://colab.research.google.com/assets/colab-badge.svg\" alt=\"Open In Colab\"/></a>"
      ]
    },
    {
      "cell_type": "markdown",
      "source": [
        "# Pandas Exercises"
      ],
      "metadata": {
        "id": "i2P17i89ScMV"
      }
    },
    {
      "cell_type": "markdown",
      "source": [
        "### 1.Series & DataFrame Basics\n",
        "- Given the following list of marks: [78, 85, 92, 70, 66]\n",
        "- Create a Pandas Series and assign the following student names as indices: ['Amit', 'Bhavna', 'Chetan', 'Divya', 'Esha']\n",
        "- Display the Series.\n"
      ],
      "metadata": {
        "id": "OORSldl8Siwn"
      }
    },
    {
      "cell_type": "code",
      "source": [
        "import pandas as pd"
      ],
      "metadata": {
        "id": "GbsKsoFcSh7v"
      },
      "execution_count": 42,
      "outputs": []
    },
    {
      "cell_type": "code",
      "source": [
        "marks = [78, 85, 92, 70, 66]\n",
        "names = ['Amit', 'Bhavna', 'Chetan', 'Divya', 'Esha']"
      ],
      "metadata": {
        "id": "0kLrQxpDTSaP"
      },
      "execution_count": 43,
      "outputs": []
    },
    {
      "cell_type": "code",
      "source": [
        "arr = pd.Series(marks, index = names)\n",
        "print(arr)"
      ],
      "metadata": {
        "colab": {
          "base_uri": "https://localhost:8080/",
          "height": 0
        },
        "id": "WHdfjogbTaR5",
        "outputId": "7a14437b-bbc8-4467-f56b-aa53786ac0c1"
      },
      "execution_count": 44,
      "outputs": [
        {
          "output_type": "stream",
          "name": "stdout",
          "text": [
            "Amit      78\n",
            "Bhavna    85\n",
            "Chetan    92\n",
            "Divya     70\n",
            "Esha      66\n",
            "dtype: int64\n"
          ]
        }
      ]
    },
    {
      "cell_type": "markdown",
      "source": [
        "Using the following dictionary:\n",
        "\n",
        "data = {\n",
        "'Name': ['Amit', 'Bhavna', 'Chetan', 'Divya', 'Esha'],\n",
        "'Gender': ['Male', 'Female', 'Male', 'Female', 'Female'],\n",
        "'Math': [78, 85, 92, 70, 66],\n",
        "'Science': [88, 79, 95, 72, 60]\n",
        "}\n",
        "\n",
        "Create a Pandas DataFrame and display:\n",
        "- The full DataFrame\n",
        "- The column names\n",
        "- The shape of the DataFrame"
      ],
      "metadata": {
        "id": "YN3oeNdYU7sg"
      }
    },
    {
      "cell_type": "code",
      "source": [
        "data = {\n",
        "'Name': ['Amit', 'Bhavna', 'Chetan', 'Divya', 'Esha'],\n",
        "'Gender': ['Male', 'Female', 'Male', 'Female', 'Female'],\n",
        "'Math': [78, 85, 92, 70, 66],\n",
        "'Science': [88, 79, 95, 72, 60]\n",
        "}"
      ],
      "metadata": {
        "id": "0J1eh4_iVHwJ"
      },
      "execution_count": 45,
      "outputs": []
    },
    {
      "cell_type": "code",
      "source": [
        "df = pd.DataFrame(data)\n",
        "print(df)"
      ],
      "metadata": {
        "colab": {
          "base_uri": "https://localhost:8080/",
          "height": 0
        },
        "id": "YKboi3rDVMmQ",
        "outputId": "117a9769-f555-49a6-cebb-a9febcc381c5"
      },
      "execution_count": 46,
      "outputs": [
        {
          "output_type": "stream",
          "name": "stdout",
          "text": [
            "     Name  Gender  Math  Science\n",
            "0    Amit    Male    78       88\n",
            "1  Bhavna  Female    85       79\n",
            "2  Chetan    Male    92       95\n",
            "3   Divya  Female    70       72\n",
            "4    Esha  Female    66       60\n"
          ]
        }
      ]
    },
    {
      "cell_type": "code",
      "source": [
        "print(df.columns)\n",
        "print(df.shape)"
      ],
      "metadata": {
        "colab": {
          "base_uri": "https://localhost:8080/",
          "height": 0
        },
        "id": "voo_d6S2WE-H",
        "outputId": "66bc057d-8c99-4d8b-db0f-3a20f057fd2c"
      },
      "execution_count": 47,
      "outputs": [
        {
          "output_type": "stream",
          "name": "stdout",
          "text": [
            "Index(['Name', 'Gender', 'Math', 'Science'], dtype='object')\n",
            "(5, 4)\n"
          ]
        }
      ]
    },
    {
      "cell_type": "markdown",
      "source": [
        "### 2.Data Exploration\n",
        "- Load the dataset from this url \"https://archive.ics.uci.edu/ml/machine-learning-databases/autos/imports-85.data\"\n",
        "- Assign names of columns:\n",
        "\n",
        "[\"symboling\",\"normalized-losses\",\"make\",\"fuel-type\",\"aspiration\", \"num-of-doors\",\"body-style\", \"drive-wheels\",\"engine-location\",\"wheel-base\",\"length\",\"width\",\"height\",\"curb-weight\",\"engine-type\",\"num-of-cylinders\", \"engine-size\",\"fuel-system\",\"bore\",\"stroke\",\"compression-ratio\",\"horsepower\",\n",
        "\"peak-rpm\",\"city-mpg\",\"highway-mpg\",\"price\"]\n",
        "- Display .shape, .columns, .info(), and .describe().\n",
        "- Display only \",\"width\",\"height\",\"curb-weight\",\"engine-type\" columns.\n",
        "- Display car details which have num-of-doors = four"
      ],
      "metadata": {
        "id": "uHOyj6bFWwpn"
      }
    },
    {
      "cell_type": "code",
      "source": [
        "data_url = \"https://archive.ics.uci.edu/ml/machine-learning-databases/autos/imports-85.data\"\n",
        "column_names = [\"symboling\",\"normalized-losses\",\"make\",\"fuel-type\",\"aspiration\", \"num-of-doors\",\"body-style\", \"drive-wheels\",\"engine-location\",\"wheel-base\",\"length\",\"width\",\"height\",\"curb-weight\",\"engine-type\",\"num-of-cylinders\", \"engine-size\",\"fuel-system\",\"bore\",\"stroke\",\"compression-ratio\",\"horsepower\",\n",
        "\"peak-rpm\",\"city-mpg\",\"highway-mpg\",\"price\"]"
      ],
      "metadata": {
        "id": "gZk4ikm1W5iY"
      },
      "execution_count": 48,
      "outputs": []
    },
    {
      "cell_type": "code",
      "source": [
        "df_data = pd.read_csv(data_url, names = column_names, delimiter= \",\", na_values= \"?\")"
      ],
      "metadata": {
        "id": "x2KH0z42XH3v"
      },
      "execution_count": 49,
      "outputs": []
    },
    {
      "cell_type": "code",
      "source": [
        "print(df_data.head(5))"
      ],
      "metadata": {
        "colab": {
          "base_uri": "https://localhost:8080/",
          "height": 0
        },
        "id": "EtPAeZBVYBeA",
        "outputId": "64a5f519-1ffc-421b-8876-5969bde03109"
      },
      "execution_count": 50,
      "outputs": [
        {
          "output_type": "stream",
          "name": "stdout",
          "text": [
            "   symboling  normalized-losses         make fuel-type aspiration  \\\n",
            "0          3                NaN  alfa-romero       gas        std   \n",
            "1          3                NaN  alfa-romero       gas        std   \n",
            "2          1                NaN  alfa-romero       gas        std   \n",
            "3          2              164.0         audi       gas        std   \n",
            "4          2              164.0         audi       gas        std   \n",
            "\n",
            "  num-of-doors   body-style drive-wheels engine-location  wheel-base  ...  \\\n",
            "0          two  convertible          rwd           front        88.6  ...   \n",
            "1          two  convertible          rwd           front        88.6  ...   \n",
            "2          two    hatchback          rwd           front        94.5  ...   \n",
            "3         four        sedan          fwd           front        99.8  ...   \n",
            "4         four        sedan          4wd           front        99.4  ...   \n",
            "\n",
            "   engine-size  fuel-system  bore  stroke compression-ratio horsepower  \\\n",
            "0          130         mpfi  3.47    2.68               9.0      111.0   \n",
            "1          130         mpfi  3.47    2.68               9.0      111.0   \n",
            "2          152         mpfi  2.68    3.47               9.0      154.0   \n",
            "3          109         mpfi  3.19    3.40              10.0      102.0   \n",
            "4          136         mpfi  3.19    3.40               8.0      115.0   \n",
            "\n",
            "   peak-rpm city-mpg  highway-mpg    price  \n",
            "0    5000.0       21           27  13495.0  \n",
            "1    5000.0       21           27  16500.0  \n",
            "2    5000.0       19           26  16500.0  \n",
            "3    5500.0       24           30  13950.0  \n",
            "4    5500.0       18           22  17450.0  \n",
            "\n",
            "[5 rows x 26 columns]\n"
          ]
        }
      ]
    },
    {
      "cell_type": "code",
      "source": [
        "print(df_data.shape)\n",
        "print(df_data.columns)\n",
        "print(df_data.info())\n",
        "print(df_data.describe())"
      ],
      "metadata": {
        "colab": {
          "base_uri": "https://localhost:8080/",
          "height": 0
        },
        "id": "OBQGRczbYn-x",
        "outputId": "2baa60ec-4f35-4d3f-8f24-7bbd04131822"
      },
      "execution_count": 51,
      "outputs": [
        {
          "output_type": "stream",
          "name": "stdout",
          "text": [
            "(205, 26)\n",
            "Index(['symboling', 'normalized-losses', 'make', 'fuel-type', 'aspiration',\n",
            "       'num-of-doors', 'body-style', 'drive-wheels', 'engine-location',\n",
            "       'wheel-base', 'length', 'width', 'height', 'curb-weight', 'engine-type',\n",
            "       'num-of-cylinders', 'engine-size', 'fuel-system', 'bore', 'stroke',\n",
            "       'compression-ratio', 'horsepower', 'peak-rpm', 'city-mpg',\n",
            "       'highway-mpg', 'price'],\n",
            "      dtype='object')\n",
            "<class 'pandas.core.frame.DataFrame'>\n",
            "RangeIndex: 205 entries, 0 to 204\n",
            "Data columns (total 26 columns):\n",
            " #   Column             Non-Null Count  Dtype  \n",
            "---  ------             --------------  -----  \n",
            " 0   symboling          205 non-null    int64  \n",
            " 1   normalized-losses  164 non-null    float64\n",
            " 2   make               205 non-null    object \n",
            " 3   fuel-type          205 non-null    object \n",
            " 4   aspiration         205 non-null    object \n",
            " 5   num-of-doors       203 non-null    object \n",
            " 6   body-style         205 non-null    object \n",
            " 7   drive-wheels       205 non-null    object \n",
            " 8   engine-location    205 non-null    object \n",
            " 9   wheel-base         205 non-null    float64\n",
            " 10  length             205 non-null    float64\n",
            " 11  width              205 non-null    float64\n",
            " 12  height             205 non-null    float64\n",
            " 13  curb-weight        205 non-null    int64  \n",
            " 14  engine-type        205 non-null    object \n",
            " 15  num-of-cylinders   205 non-null    object \n",
            " 16  engine-size        205 non-null    int64  \n",
            " 17  fuel-system        205 non-null    object \n",
            " 18  bore               201 non-null    float64\n",
            " 19  stroke             201 non-null    float64\n",
            " 20  compression-ratio  205 non-null    float64\n",
            " 21  horsepower         203 non-null    float64\n",
            " 22  peak-rpm           203 non-null    float64\n",
            " 23  city-mpg           205 non-null    int64  \n",
            " 24  highway-mpg        205 non-null    int64  \n",
            " 25  price              201 non-null    float64\n",
            "dtypes: float64(11), int64(5), object(10)\n",
            "memory usage: 41.8+ KB\n",
            "None\n",
            "        symboling  normalized-losses  wheel-base      length       width  \\\n",
            "count  205.000000         164.000000  205.000000  205.000000  205.000000   \n",
            "mean     0.834146         122.000000   98.756585  174.049268   65.907805   \n",
            "std      1.245307          35.442168    6.021776   12.337289    2.145204   \n",
            "min     -2.000000          65.000000   86.600000  141.100000   60.300000   \n",
            "25%      0.000000          94.000000   94.500000  166.300000   64.100000   \n",
            "50%      1.000000         115.000000   97.000000  173.200000   65.500000   \n",
            "75%      2.000000         150.000000  102.400000  183.100000   66.900000   \n",
            "max      3.000000         256.000000  120.900000  208.100000   72.300000   \n",
            "\n",
            "           height  curb-weight  engine-size        bore      stroke  \\\n",
            "count  205.000000   205.000000   205.000000  201.000000  201.000000   \n",
            "mean    53.724878  2555.565854   126.907317    3.329751    3.255423   \n",
            "std      2.443522   520.680204    41.642693    0.273539    0.316717   \n",
            "min     47.800000  1488.000000    61.000000    2.540000    2.070000   \n",
            "25%     52.000000  2145.000000    97.000000    3.150000    3.110000   \n",
            "50%     54.100000  2414.000000   120.000000    3.310000    3.290000   \n",
            "75%     55.500000  2935.000000   141.000000    3.590000    3.410000   \n",
            "max     59.800000  4066.000000   326.000000    3.940000    4.170000   \n",
            "\n",
            "       compression-ratio  horsepower     peak-rpm    city-mpg  highway-mpg  \\\n",
            "count         205.000000  203.000000   203.000000  205.000000   205.000000   \n",
            "mean           10.142537  104.256158  5125.369458   25.219512    30.751220   \n",
            "std             3.972040   39.714369   479.334560    6.542142     6.886443   \n",
            "min             7.000000   48.000000  4150.000000   13.000000    16.000000   \n",
            "25%             8.600000   70.000000  4800.000000   19.000000    25.000000   \n",
            "50%             9.000000   95.000000  5200.000000   24.000000    30.000000   \n",
            "75%             9.400000  116.000000  5500.000000   30.000000    34.000000   \n",
            "max            23.000000  288.000000  6600.000000   49.000000    54.000000   \n",
            "\n",
            "              price  \n",
            "count    201.000000  \n",
            "mean   13207.129353  \n",
            "std     7947.066342  \n",
            "min     5118.000000  \n",
            "25%     7775.000000  \n",
            "50%    10295.000000  \n",
            "75%    16500.000000  \n",
            "max    45400.000000  \n"
          ]
        }
      ]
    },
    {
      "cell_type": "code",
      "source": [
        "print(df_data[[\"width\",\"height\",\"curb-weight\",\"engine-type\"]])"
      ],
      "metadata": {
        "colab": {
          "base_uri": "https://localhost:8080/",
          "height": 0
        },
        "id": "6AqFaXcJZ5Na",
        "outputId": "6918d27a-6261-4d1c-9d60-c128d3ebcc8b"
      },
      "execution_count": 52,
      "outputs": [
        {
          "output_type": "stream",
          "name": "stdout",
          "text": [
            "     width  height  curb-weight engine-type\n",
            "0     64.1    48.8         2548        dohc\n",
            "1     64.1    48.8         2548        dohc\n",
            "2     65.5    52.4         2823        ohcv\n",
            "3     66.2    54.3         2337         ohc\n",
            "4     66.4    54.3         2824         ohc\n",
            "..     ...     ...          ...         ...\n",
            "200   68.9    55.5         2952         ohc\n",
            "201   68.8    55.5         3049         ohc\n",
            "202   68.9    55.5         3012        ohcv\n",
            "203   68.9    55.5         3217         ohc\n",
            "204   68.9    55.5         3062         ohc\n",
            "\n",
            "[205 rows x 4 columns]\n"
          ]
        }
      ]
    },
    {
      "cell_type": "code",
      "source": [
        "print(df_data[df_data[\"num-of-doors\"] == \"four\"])"
      ],
      "metadata": {
        "colab": {
          "base_uri": "https://localhost:8080/",
          "height": 0
        },
        "id": "wtzAR5M8ak-j",
        "outputId": "888d255d-5133-4c7f-e8d6-0f278695e4a2"
      },
      "execution_count": 53,
      "outputs": [
        {
          "output_type": "stream",
          "name": "stdout",
          "text": [
            "     symboling  normalized-losses   make fuel-type aspiration num-of-doors  \\\n",
            "3            2              164.0   audi       gas        std         four   \n",
            "4            2              164.0   audi       gas        std         four   \n",
            "6            1              158.0   audi       gas        std         four   \n",
            "7            1                NaN   audi       gas        std         four   \n",
            "8            1              158.0   audi       gas      turbo         four   \n",
            "..         ...                ...    ...       ...        ...          ...   \n",
            "200         -1               95.0  volvo       gas        std         four   \n",
            "201         -1               95.0  volvo       gas      turbo         four   \n",
            "202         -1               95.0  volvo       gas        std         four   \n",
            "203         -1               95.0  volvo    diesel      turbo         four   \n",
            "204         -1               95.0  volvo       gas      turbo         four   \n",
            "\n",
            "    body-style drive-wheels engine-location  wheel-base  ...  engine-size  \\\n",
            "3        sedan          fwd           front        99.8  ...          109   \n",
            "4        sedan          4wd           front        99.4  ...          136   \n",
            "6        sedan          fwd           front       105.8  ...          136   \n",
            "7        wagon          fwd           front       105.8  ...          136   \n",
            "8        sedan          fwd           front       105.8  ...          131   \n",
            "..         ...          ...             ...         ...  ...          ...   \n",
            "200      sedan          rwd           front       109.1  ...          141   \n",
            "201      sedan          rwd           front       109.1  ...          141   \n",
            "202      sedan          rwd           front       109.1  ...          173   \n",
            "203      sedan          rwd           front       109.1  ...          145   \n",
            "204      sedan          rwd           front       109.1  ...          141   \n",
            "\n",
            "     fuel-system  bore  stroke compression-ratio horsepower  peak-rpm  \\\n",
            "3           mpfi  3.19    3.40              10.0      102.0    5500.0   \n",
            "4           mpfi  3.19    3.40               8.0      115.0    5500.0   \n",
            "6           mpfi  3.19    3.40               8.5      110.0    5500.0   \n",
            "7           mpfi  3.19    3.40               8.5      110.0    5500.0   \n",
            "8           mpfi  3.13    3.40               8.3      140.0    5500.0   \n",
            "..           ...   ...     ...               ...        ...       ...   \n",
            "200         mpfi  3.78    3.15               9.5      114.0    5400.0   \n",
            "201         mpfi  3.78    3.15               8.7      160.0    5300.0   \n",
            "202         mpfi  3.58    2.87               8.8      134.0    5500.0   \n",
            "203          idi  3.01    3.40              23.0      106.0    4800.0   \n",
            "204         mpfi  3.78    3.15               9.5      114.0    5400.0   \n",
            "\n",
            "    city-mpg  highway-mpg    price  \n",
            "3         24           30  13950.0  \n",
            "4         18           22  17450.0  \n",
            "6         19           25  17710.0  \n",
            "7         19           25  18920.0  \n",
            "8         17           20  23875.0  \n",
            "..       ...          ...      ...  \n",
            "200       23           28  16845.0  \n",
            "201       19           25  19045.0  \n",
            "202       18           23  21485.0  \n",
            "203       26           27  22470.0  \n",
            "204       19           25  22625.0  \n",
            "\n",
            "[114 rows x 26 columns]\n"
          ]
        }
      ]
    },
    {
      "cell_type": "markdown",
      "source": [
        "### 3. Missing values handling  \n",
        "- Missing value is represented by ‘?’ in this dataset. Replace it with NULL.\n",
        "- Check how many missing values are there in each attribute.\n",
        "- Replace missing values of \"normalized-losses\", \"stroke\", \"bore\", \"horsepower\" with\n",
        "mean.\n",
        "- Drop all the rows which has missing value in attribute “price”.\n",
        "- Replace missing values of “num-of-doors” with mode.\n",
        "- Replace all other missing values with median."
      ],
      "metadata": {
        "id": "nyb21uUoeGaB"
      }
    },
    {
      "cell_type": "code",
      "source": [
        "print(df_data.head(7).fillna(value = \"NULL\"))"
      ],
      "metadata": {
        "colab": {
          "base_uri": "https://localhost:8080/"
        },
        "id": "dfN9Z8QHebRC",
        "outputId": "1d3fc8ec-229e-449f-f0cb-7cffc58b3aa3"
      },
      "execution_count": 62,
      "outputs": [
        {
          "output_type": "stream",
          "name": "stdout",
          "text": [
            "   symboling normalized-losses         make fuel-type aspiration num-of-doors  \\\n",
            "0          3              NULL  alfa-romero       gas        std          two   \n",
            "1          3              NULL  alfa-romero       gas        std          two   \n",
            "2          1              NULL  alfa-romero       gas        std          two   \n",
            "3          2             164.0         audi       gas        std         four   \n",
            "4          2             164.0         audi       gas        std         four   \n",
            "5          2              NULL         audi       gas        std          two   \n",
            "6          1             158.0         audi       gas        std         four   \n",
            "\n",
            "    body-style drive-wheels engine-location  wheel-base  ...  engine-size  \\\n",
            "0  convertible          rwd           front        88.6  ...          130   \n",
            "1  convertible          rwd           front        88.6  ...          130   \n",
            "2    hatchback          rwd           front        94.5  ...          152   \n",
            "3        sedan          fwd           front        99.8  ...          109   \n",
            "4        sedan          4wd           front        99.4  ...          136   \n",
            "5        sedan          fwd           front        99.8  ...          136   \n",
            "6        sedan          fwd           front       105.8  ...          136   \n",
            "\n",
            "   fuel-system  bore  stroke compression-ratio horsepower  peak-rpm city-mpg  \\\n",
            "0         mpfi  3.47    2.68               9.0      111.0    5000.0       21   \n",
            "1         mpfi  3.47    2.68               9.0      111.0    5000.0       21   \n",
            "2         mpfi  2.68    3.47               9.0      154.0    5000.0       19   \n",
            "3         mpfi  3.19    3.40              10.0      102.0    5500.0       24   \n",
            "4         mpfi  3.19    3.40               8.0      115.0    5500.0       18   \n",
            "5         mpfi  3.19    3.40               8.5      110.0    5500.0       19   \n",
            "6         mpfi  3.19    3.40               8.5      110.0    5500.0       19   \n",
            "\n",
            "   highway-mpg    price  \n",
            "0           27  13495.0  \n",
            "1           27  16500.0  \n",
            "2           26  16500.0  \n",
            "3           30  13950.0  \n",
            "4           22  17450.0  \n",
            "5           25  15250.0  \n",
            "6           25  17710.0  \n",
            "\n",
            "[7 rows x 26 columns]\n"
          ]
        }
      ]
    },
    {
      "cell_type": "code",
      "metadata": {
        "colab": {
          "base_uri": "https://localhost:8080/",
          "height": 0
        },
        "id": "cec0e280",
        "outputId": "1e6e1ddc-bf6a-495d-96e3-f48a0389233d"
      },
      "source": [
        "print(df_data.isnull().sum())"
      ],
      "execution_count": 60,
      "outputs": [
        {
          "output_type": "stream",
          "name": "stdout",
          "text": [
            "symboling             0\n",
            "normalized-losses    41\n",
            "make                  0\n",
            "fuel-type             0\n",
            "aspiration            0\n",
            "num-of-doors          2\n",
            "body-style            0\n",
            "drive-wheels          0\n",
            "engine-location       0\n",
            "wheel-base            0\n",
            "length                0\n",
            "width                 0\n",
            "height                0\n",
            "curb-weight           0\n",
            "engine-type           0\n",
            "num-of-cylinders      0\n",
            "engine-size           0\n",
            "fuel-system           0\n",
            "bore                  4\n",
            "stroke                4\n",
            "compression-ratio     0\n",
            "horsepower            2\n",
            "peak-rpm              2\n",
            "city-mpg              0\n",
            "highway-mpg           0\n",
            "price                 4\n",
            "dtype: int64\n"
          ]
        }
      ]
    },
    {
      "cell_type": "code",
      "source": [
        "print(df_data[\"normalized-losses\"].fillna(value = df_data[\"normalized-losses\"].mean()))"
      ],
      "metadata": {
        "colab": {
          "base_uri": "https://localhost:8080/"
        },
        "id": "4tG6ViT5hGuN",
        "outputId": "36184d51-7090-4f06-a875-20d403d6fe9d"
      },
      "execution_count": 68,
      "outputs": [
        {
          "output_type": "stream",
          "name": "stdout",
          "text": [
            "0      122.0\n",
            "1      122.0\n",
            "2      122.0\n",
            "3      164.0\n",
            "4      164.0\n",
            "       ...  \n",
            "200     95.0\n",
            "201     95.0\n",
            "202     95.0\n",
            "203     95.0\n",
            "204     95.0\n",
            "Name: normalized-losses, Length: 205, dtype: float64\n"
          ]
        }
      ]
    }
  ],
  "metadata": {
    "colab": {
      "name": "Welcome To Colab",
      "toc_visible": true,
      "provenance": [],
      "include_colab_link": true
    },
    "kernelspec": {
      "display_name": "Python 3",
      "name": "python3"
    }
  },
  "nbformat": 4,
  "nbformat_minor": 0
}

{
  "cells": [
    {
      "cell_type": "markdown",
      "metadata": {
        "id": "view-in-github",
        "colab_type": "text"
      },
      "source": [
        "<a href=\"https://colab.research.google.com/github/Vatsal-Patel-09/Machine_Learning_101/blob/main/LAB_3-nppy.ipynb\" target=\"_parent\"><img src=\"https://colab.research.google.com/assets/colab-badge.svg\" alt=\"Open In Colab\"/></a>"
      ]
    },
    {
      "cell_type": "markdown",
      "source": [
        "# Numpy Exercises"
      ],
      "metadata": {
        "id": "i2P17i89ScMV"
      }
    },
    {
      "cell_type": "markdown",
      "source": [
        "### 1.Basic Array Creation & Manipulation\n",
        "- Create a 1D array of numbers from 1 to 20.\n",
        "- Create a 3×4 matrix of ones and reshape it to 4×3.\n",
        "- Create a 5×5 identity matrix.\n",
        "- Generate 15 equally spaced numbers between 5 and 50.\n",
        "- Generate a 4×4 matrix of random integers between 1 and 100."
      ],
      "metadata": {
        "id": "h2MDT1BPbTC2"
      }
    },
    {
      "cell_type": "code",
      "source": [
        "import numpy as np"
      ],
      "metadata": {
        "id": "EikhVZxPcVV6"
      },
      "execution_count": 31,
      "outputs": []
    },
    {
      "cell_type": "code",
      "source": [
        "#Create a 1D array of numbers from 1 to 20.\n",
        "arr = np.arange(1,21)\n",
        "print(arr)"
      ],
      "metadata": {
        "colab": {
          "base_uri": "https://localhost:8080/"
        },
        "id": "hgCzCpjudogY",
        "outputId": "5dac1bf1-8ff9-4a22-df8c-f8e2a99f87e8"
      },
      "execution_count": 32,
      "outputs": [
        {
          "output_type": "stream",
          "name": "stdout",
          "text": [
            "[ 1  2  3  4  5  6  7  8  9 10 11 12 13 14 15 16 17 18 19 20]\n"
          ]
        }
      ]
    },
    {
      "cell_type": "code",
      "source": [
        "#Create a 3×4 matrix of ones and reshape it to 4×3.\n",
        "arr = np.ones((3,4))\n",
        "print(arr)\n",
        "arr = arr.reshape(4,3)\n",
        "print(arr)"
      ],
      "metadata": {
        "colab": {
          "base_uri": "https://localhost:8080/"
        },
        "id": "Egsl6iumeeEx",
        "outputId": "8909973e-0554-4b63-f9f3-4d1ba270280f"
      },
      "execution_count": 33,
      "outputs": [
        {
          "output_type": "stream",
          "name": "stdout",
          "text": [
            "[[1. 1. 1. 1.]\n",
            " [1. 1. 1. 1.]\n",
            " [1. 1. 1. 1.]]\n",
            "[[1. 1. 1.]\n",
            " [1. 1. 1.]\n",
            " [1. 1. 1.]\n",
            " [1. 1. 1.]]\n"
          ]
        }
      ]
    },
    {
      "cell_type": "code",
      "source": [
        "# Create a 5×5 identity matrix.\n",
        "arr = np.eye(5)\n",
        "print(arr)"
      ],
      "metadata": {
        "colab": {
          "base_uri": "https://localhost:8080/"
        },
        "id": "1EmcSismfNPs",
        "outputId": "dff51c93-ddf3-48c3-f51c-8099c8d95623"
      },
      "execution_count": 34,
      "outputs": [
        {
          "output_type": "stream",
          "name": "stdout",
          "text": [
            "[[1. 0. 0. 0. 0.]\n",
            " [0. 1. 0. 0. 0.]\n",
            " [0. 0. 1. 0. 0.]\n",
            " [0. 0. 0. 1. 0.]\n",
            " [0. 0. 0. 0. 1.]]\n"
          ]
        }
      ]
    },
    {
      "cell_type": "code",
      "source": [
        "#Generate 15 equally spaced numbers between 5 and 50.\n",
        "arr = np.linspace(5,50,15,)\n",
        "print(arr)"
      ],
      "metadata": {
        "colab": {
          "base_uri": "https://localhost:8080/"
        },
        "id": "_g0bOo8RgKXI",
        "outputId": "98d57edb-18fc-4543-8919-d2b842d0ce14"
      },
      "execution_count": 35,
      "outputs": [
        {
          "output_type": "stream",
          "name": "stdout",
          "text": [
            "[ 5.          8.21428571 11.42857143 14.64285714 17.85714286 21.07142857\n",
            " 24.28571429 27.5        30.71428571 33.92857143 37.14285714 40.35714286\n",
            " 43.57142857 46.78571429 50.        ]\n"
          ]
        }
      ]
    },
    {
      "cell_type": "code",
      "source": [
        "#Generate a 4×4 matrix of random integers between 1 and 100\n",
        "arr = np.random.randint(1,101,(4,4))\n",
        "print(arr)"
      ],
      "metadata": {
        "colab": {
          "base_uri": "https://localhost:8080/"
        },
        "id": "In6OY0vxgyTe",
        "outputId": "bdaa2ff4-cf66-4487-be29-1c970423922f"
      },
      "execution_count": 36,
      "outputs": [
        {
          "output_type": "stream",
          "name": "stdout",
          "text": [
            "[[10 19 13 67]\n",
            " [68 40 60 30]\n",
            " [69 58 10 49]\n",
            " [35 53 70 33]]\n"
          ]
        }
      ]
    },
    {
      "cell_type": "markdown",
      "source": [
        "### 2.Indexing, Slicing, and Broadcasting\n",
        "- Create a 3×3 matrix of random integers between 1 and 100.\n",
        "- Extract: First row, Second column, Center element.\n",
        "- Replace all values greater than 50 in a matrix with 999.\n",
        "- Multiply a 1D array of size 5 (random integers between 1 to 10) by 10 using\n",
        "broadcasting"
      ],
      "metadata": {
        "id": "3gpJApsfhMWr"
      }
    },
    {
      "cell_type": "code",
      "source": [
        "#Create a 3×3 matrix of random integers between 1 and 100.\n",
        "arr = np.random.randint(1,101,(3,3))\n",
        "print(arr)"
      ],
      "metadata": {
        "colab": {
          "base_uri": "https://localhost:8080/"
        },
        "id": "nmTVJ0aAhhbn",
        "outputId": "16e047cd-a0d2-4e5b-a54e-9071a758dd6f"
      },
      "execution_count": 37,
      "outputs": [
        {
          "output_type": "stream",
          "name": "stdout",
          "text": [
            "[[63 80 27]\n",
            " [75 35 69]\n",
            " [80 63 26]]\n"
          ]
        }
      ]
    },
    {
      "cell_type": "code",
      "source": [
        "#Extract: First row, Second column, Center element.\n",
        "print(arr[0])\n",
        "print(arr[:,1:2])\n",
        "print(arr[1,1])"
      ],
      "metadata": {
        "colab": {
          "base_uri": "https://localhost:8080/"
        },
        "id": "3-GoHPGchyZ-",
        "outputId": "d1f1de71-9987-4f44-d989-66530205e4a8"
      },
      "execution_count": 38,
      "outputs": [
        {
          "output_type": "stream",
          "name": "stdout",
          "text": [
            "[63 80 27]\n",
            "[[80]\n",
            " [35]\n",
            " [63]]\n",
            "35\n"
          ]
        }
      ]
    },
    {
      "cell_type": "code",
      "source": [
        "#Replace all values greater than 50 in a matrix with 999.\n",
        "arr[arr > 50] = 999\n",
        "print(arr)"
      ],
      "metadata": {
        "colab": {
          "base_uri": "https://localhost:8080/"
        },
        "id": "aJLuxTTKi91U",
        "outputId": "c85495c4-f644-47df-864c-75ac307444b7"
      },
      "execution_count": 39,
      "outputs": [
        {
          "output_type": "stream",
          "name": "stdout",
          "text": [
            "[[999 999  27]\n",
            " [999  35 999]\n",
            " [999 999  26]]\n"
          ]
        }
      ]
    },
    {
      "cell_type": "code",
      "source": [
        "#Multiply a 1D array of size 5 (random integers between 1 to 10) by 10 using broadcasting\n",
        "arr1 = np.random.randint(1,11,5)\n",
        "print(arr1)\n",
        "arr2 = 10\n",
        "print(arr1*arr2)"
      ],
      "metadata": {
        "colab": {
          "base_uri": "https://localhost:8080/"
        },
        "id": "uWF-_xhUjHfB",
        "outputId": "c8817e48-44cb-4018-c382-c630f1aafa66"
      },
      "execution_count": 40,
      "outputs": [
        {
          "output_type": "stream",
          "name": "stdout",
          "text": [
            "[5 7 1 8 4]\n",
            "[50 70 10 80 40]\n"
          ]
        }
      ]
    },
    {
      "cell_type": "markdown",
      "source": [
        "### 3.Mathematical and Statistical Operations  \n",
        "- Create a 3×3 matrix of random integers between 1 and 100\n",
        "- Compute sum, mean, median, std, var, min, and max of the above array.\n",
        "- Normalize a 1D array of size 5 (random integers between 1 to 10)  to scale values\n",
        "between 0 and 1"
      ],
      "metadata": {
        "id": "yNspUpjkj2pe"
      }
    },
    {
      "cell_type": "code",
      "source": [
        "#Create a 3×3 matrix of random integers between 1 and 100.\n",
        "arr = np.random.randint(1,101,(3,3))\n",
        "print(arr)"
      ],
      "metadata": {
        "colab": {
          "base_uri": "https://localhost:8080/"
        },
        "id": "jvygXSd_kDEa",
        "outputId": "41cb3c17-bd16-4dbc-da2a-0496f67fe85d"
      },
      "execution_count": 41,
      "outputs": [
        {
          "output_type": "stream",
          "name": "stdout",
          "text": [
            "[[84 65 69]\n",
            " [39 43 99]\n",
            " [26 19 38]]\n"
          ]
        }
      ]
    },
    {
      "cell_type": "code",
      "source": [
        "# Compute sum, mean, median, std, var, min, and max of the above array.\n",
        "print(np.sum(arr))\n",
        "print(np.mean(arr))\n",
        "print(np.median(arr))\n",
        "print(np.std(arr))\n",
        "print(np.var(arr))\n",
        "print(np.min(arr))\n",
        "print(np.max(arr))"
      ],
      "metadata": {
        "colab": {
          "base_uri": "https://localhost:8080/"
        },
        "id": "RdU9ICCJkVRj",
        "outputId": "63eb2e96-fbd7-4cec-ad72-912414ec5373"
      },
      "execution_count": 42,
      "outputs": [
        {
          "output_type": "stream",
          "name": "stdout",
          "text": [
            "482\n",
            "53.55555555555556\n",
            "43.0\n",
            "25.56086901283597\n",
            "653.358024691358\n",
            "19\n",
            "99\n"
          ]
        }
      ]
    },
    {
      "cell_type": "code",
      "source": [
        "#Normalize a 1D array of size 5 (random integers between 1 to 10) to scale values between 0 and 1\n",
        "arr2 = np.random.randint(1,11,5)\n",
        "print(arr2)\n",
        "arr2 = (arr2 - np.min(arr2)) / (np.max(arr2) - np.min(arr2))\n",
        "print(arr2)"
      ],
      "metadata": {
        "colab": {
          "base_uri": "https://localhost:8080/"
        },
        "id": "3I0zFupmkqkK",
        "outputId": "5b30c5d5-f1b6-4cda-ec4a-57d5c5846332"
      },
      "execution_count": 43,
      "outputs": [
        {
          "output_type": "stream",
          "name": "stdout",
          "text": [
            "[10  4  4  6  3]\n",
            "[1.         0.14285714 0.14285714 0.42857143 0.        ]\n"
          ]
        }
      ]
    },
    {
      "cell_type": "markdown",
      "source": [
        "### 4.NumPy Matrix Operations and Linear Algebra  \n",
        "- Generate Following two NumPy matrix import numpy as np\n",
        "      A = ([4, 2], [1, 3])\n",
        "      B = ([2, 0], [1, 5])\n",
        "- Find matrix multiplication of A and B.\n",
        "- Find dot product of A and B.\n",
        "- Find element wise addition/ subtraction/ multiplications/ division of A and B\n",
        "- Transpose matrix A.\n",
        "- Compute determinant of A.\n",
        "- Compute inverse of A (if possible).\n",
        "- Find eigenvalues and eigenvectors.\n",
        "- Solve the system of equations:\n",
        "      2x + y = 8  \n",
        "      3x + 4y = 18\n"
      ],
      "metadata": {
        "id": "KR00eJp2mxIU"
      }
    },
    {
      "cell_type": "code",
      "source": [
        "#Generate Following two NumPy matrix import numpy as np\n",
        "A = np.array([[4, 2], [1, 3]])\n",
        "B = np.array([[2, 1], [1, 5]])\n",
        "# print(A)\n",
        "# print(B)\n",
        "#Find matrix multiplication of A and B.\n",
        "print(\"Matrix Multiplication:\")\n",
        "print(A*B)\n",
        "\n",
        "# Find dot product of A and B.\n",
        "print(\"\\nDot Product:\")\n",
        "print(np.dot(A, B))"
      ],
      "metadata": {
        "colab": {
          "base_uri": "https://localhost:8080/"
        },
        "id": "ECmejI0-sBIQ",
        "outputId": "eee98eb0-004b-4669-c3ca-963be3c11602"
      },
      "execution_count": 73,
      "outputs": [
        {
          "output_type": "stream",
          "name": "stdout",
          "text": [
            "Matrix Multiplication:\n",
            "[[ 8  2]\n",
            " [ 1 15]]\n",
            "\n",
            "Dot Product:\n",
            "[[10 14]\n",
            " [ 5 16]]\n"
          ]
        }
      ]
    },
    {
      "cell_type": "code",
      "source": [
        "#Find element wise addition/ subtraction/ multiplications/ division of A and B\n",
        "print(\"\\nElement Wise Addition:\")\n",
        "print(A+B)\n",
        "print(\"\\nElement Wise Subtraction:\")\n",
        "print(A-B)\n",
        "print(\"\\nElement Wise Multiplication:\")\n",
        "print(A*B)\n",
        "print(\"\\nElement Wise Division:\")\n",
        "print(A/B)"
      ],
      "metadata": {
        "colab": {
          "base_uri": "https://localhost:8080/"
        },
        "id": "Dchas_7PcXqt",
        "outputId": "640acb8c-3919-49c2-f62c-09b650150e02"
      },
      "execution_count": 74,
      "outputs": [
        {
          "output_type": "stream",
          "name": "stdout",
          "text": [
            "\n",
            "Element Wise Addition:\n",
            "[[6 3]\n",
            " [2 8]]\n",
            "\n",
            "Element Wise Subtraction:\n",
            "[[ 2  1]\n",
            " [ 0 -2]]\n",
            "\n",
            "Element Wise Multiplication:\n",
            "[[ 8  2]\n",
            " [ 1 15]]\n",
            "\n",
            "Element Wise Division:\n",
            "[[2.  2. ]\n",
            " [1.  0.6]]\n"
          ]
        }
      ]
    },
    {
      "cell_type": "code",
      "source": [
        "#Transpose matrix A.\n",
        "print(A.T)"
      ],
      "metadata": {
        "colab": {
          "base_uri": "https://localhost:8080/"
        },
        "id": "Bjo847UseBC3",
        "outputId": "1b765297-1e8b-494c-d055-d44f02540d3b"
      },
      "execution_count": 75,
      "outputs": [
        {
          "output_type": "stream",
          "name": "stdout",
          "text": [
            "[[4 1]\n",
            " [2 3]]\n"
          ]
        }
      ]
    },
    {
      "cell_type": "code",
      "source": [
        "#Compute determinant of A\n",
        "print(np.linalg.det(A))"
      ],
      "metadata": {
        "colab": {
          "base_uri": "https://localhost:8080/"
        },
        "id": "nazJEPOpfS08",
        "outputId": "3230dd4b-97bb-46c6-fe0a-20505c73e0c9"
      },
      "execution_count": 76,
      "outputs": [
        {
          "output_type": "stream",
          "name": "stdout",
          "text": [
            "10.000000000000002\n"
          ]
        }
      ]
    },
    {
      "cell_type": "code",
      "source": [
        "#Compute inverse of A (if possible)\n",
        "print(np.linalg.inv(A))"
      ],
      "metadata": {
        "colab": {
          "base_uri": "https://localhost:8080/"
        },
        "id": "2SKHfy5KimOM",
        "outputId": "5f31fb64-37bf-4350-ea09-3ff6bca54568"
      },
      "execution_count": 78,
      "outputs": [
        {
          "output_type": "stream",
          "name": "stdout",
          "text": [
            "[[ 0.3 -0.2]\n",
            " [-0.1  0.4]]\n"
          ]
        }
      ]
    },
    {
      "cell_type": "code",
      "source": [
        "#Find eigenvalues and eigenvectors.\n",
        "eigenvalues, eigenvectors = np.linalg.eig(A)\n",
        "print(\"Eigenvalues:\")\n",
        "print(eigenvalues)\n",
        "print(\"\\nEigenvectors:\")\n",
        "print(eigenvectors)"
      ],
      "metadata": {
        "colab": {
          "base_uri": "https://localhost:8080/"
        },
        "id": "xm-b9wfCjsFM",
        "outputId": "be721509-88ba-4452-a59d-6f7f9f6f899c"
      },
      "execution_count": 81,
      "outputs": [
        {
          "output_type": "stream",
          "name": "stdout",
          "text": [
            "Eigenvalues:\n",
            "[5. 2.]\n",
            "\n",
            "Eigenvectors:\n",
            "[[ 0.89442719 -0.70710678]\n",
            " [ 0.4472136   0.70710678]]\n"
          ]
        }
      ]
    },
    {
      "cell_type": "code",
      "source": [
        "# Solve the system of equations: 2x + y = 8, 3x + 4y = 18\n",
        "\n",
        "A = np.array([[2, 1], [3, 4]])\n",
        "\n",
        "B = np.array([8, 18])\n",
        "\n",
        "solution = np.linalg.solve(A, B)\n",
        "\n",
        "print(\"Solution (x, y):\", solution)"
      ],
      "metadata": {
        "colab": {
          "base_uri": "https://localhost:8080/"
        },
        "id": "KktWMSvqjumK",
        "outputId": "f904cdbf-93a0-4716-96af-27dcdd0550cf"
      },
      "execution_count": 87,
      "outputs": [
        {
          "output_type": "stream",
          "name": "stdout",
          "text": [
            "Solution (x, y): [2.8 2.4]\n"
          ]
        }
      ]
    },
    {
      "cell_type": "markdown",
      "source": [
        "# Pandas Exercises"
      ],
      "metadata": {
        "id": "8KAA13HybFSk"
      }
    },
    {
      "cell_type": "markdown",
      "source": [
        "### 1.Series & DataFrame Basics\n",
        "- Given the following list of marks: [78, 85, 92, 70, 66]\n",
        "- Create a Pandas Series and assign the following student names as indices: ['Amit', 'Bhavna', 'Chetan', 'Divya', 'Esha']\n",
        "- Display the Series.\n"
      ],
      "metadata": {
        "id": "OORSldl8Siwn"
      }
    },
    {
      "cell_type": "code",
      "source": [
        "import pandas as pd"
      ],
      "metadata": {
        "id": "GbsKsoFcSh7v"
      },
      "execution_count": 45,
      "outputs": []
    },
    {
      "cell_type": "code",
      "source": [
        "marks = [78, 85, 92, 70, 66]\n",
        "names = ['Amit', 'Bhavna', 'Chetan', 'Divya', 'Esha']"
      ],
      "metadata": {
        "id": "0kLrQxpDTSaP"
      },
      "execution_count": 46,
      "outputs": []
    },
    {
      "cell_type": "code",
      "source": [
        "arr = pd.Series(marks, index = names)\n",
        "print(arr)"
      ],
      "metadata": {
        "colab": {
          "base_uri": "https://localhost:8080/"
        },
        "id": "WHdfjogbTaR5",
        "outputId": "6a3f217c-240b-4786-91e0-715d32224c1a"
      },
      "execution_count": 47,
      "outputs": [
        {
          "output_type": "stream",
          "name": "stdout",
          "text": [
            "Amit      78\n",
            "Bhavna    85\n",
            "Chetan    92\n",
            "Divya     70\n",
            "Esha      66\n",
            "dtype: int64\n"
          ]
        }
      ]
    },
    {
      "cell_type": "markdown",
      "source": [
        "Using the following dictionary:\n",
        "\n",
        "data = {\n",
        "'Name': ['Amit', 'Bhavna', 'Chetan', 'Divya', 'Esha'],\n",
        "'Gender': ['Male', 'Female', 'Male', 'Female', 'Female'],\n",
        "'Math': [78, 85, 92, 70, 66],\n",
        "'Science': [88, 79, 95, 72, 60]\n",
        "}\n",
        "\n",
        "Create a Pandas DataFrame and display:\n",
        "- The full DataFrame\n",
        "- The column names\n",
        "- The shape of the DataFrame"
      ],
      "metadata": {
        "id": "YN3oeNdYU7sg"
      }
    },
    {
      "cell_type": "code",
      "source": [
        "data = {\n",
        "'Name': ['Amit', 'Bhavna', 'Chetan', 'Divya', 'Esha'],\n",
        "'Gender': ['Male', 'Female', 'Male', 'Female', 'Female'],\n",
        "'Math': [78, 85, 92, 70, 66],\n",
        "'Science': [88, 79, 95, 72, 60]\n",
        "}"
      ],
      "metadata": {
        "id": "0J1eh4_iVHwJ"
      },
      "execution_count": 48,
      "outputs": []
    },
    {
      "cell_type": "code",
      "source": [
        "df = pd.DataFrame(data)\n",
        "print(df)"
      ],
      "metadata": {
        "colab": {
          "base_uri": "https://localhost:8080/"
        },
        "id": "YKboi3rDVMmQ",
        "outputId": "6d432ef7-0b9e-4ba1-b2e8-f94a491a2a30"
      },
      "execution_count": 49,
      "outputs": [
        {
          "output_type": "stream",
          "name": "stdout",
          "text": [
            "     Name  Gender  Math  Science\n",
            "0    Amit    Male    78       88\n",
            "1  Bhavna  Female    85       79\n",
            "2  Chetan    Male    92       95\n",
            "3   Divya  Female    70       72\n",
            "4    Esha  Female    66       60\n"
          ]
        }
      ]
    },
    {
      "cell_type": "code",
      "source": [
        "print(df.columns)\n",
        "print(df.shape)"
      ],
      "metadata": {
        "colab": {
          "base_uri": "https://localhost:8080/"
        },
        "id": "voo_d6S2WE-H",
        "outputId": "8eb32c4a-e8ee-4107-fd02-1190a4cfa71a"
      },
      "execution_count": 50,
      "outputs": [
        {
          "output_type": "stream",
          "name": "stdout",
          "text": [
            "Index(['Name', 'Gender', 'Math', 'Science'], dtype='object')\n",
            "(5, 4)\n"
          ]
        }
      ]
    },
    {
      "cell_type": "markdown",
      "source": [
        "### 2.Data Exploration\n",
        "- Load the dataset from this url \"https://archive.ics.uci.edu/ml/machine-learning-databases/autos/imports-85.data\"\n",
        "- Assign names of columns:\n",
        "\n",
        "[\"symboling\",\"normalized-losses\",\"make\",\"fuel-type\",\"aspiration\", \"num-of-doors\",\"body-style\", \"drive-wheels\",\"engine-location\",\"wheel-base\",\"length\",\"width\",\"height\",\"curb-weight\",\"engine-type\",\"num-of-cylinders\", \"engine-size\",\"fuel-system\",\"bore\",\"stroke\",\"compression-ratio\",\"horsepower\",\n",
        "\"peak-rpm\",\"city-mpg\",\"highway-mpg\",\"price\"]\n",
        "- Display .shape, .columns, .info(), and .describe().\n",
        "- Display only \",\"width\",\"height\",\"curb-weight\",\"engine-type\" columns.\n",
        "- Display car details which have num-of-doors = four"
      ],
      "metadata": {
        "id": "uHOyj6bFWwpn"
      }
    },
    {
      "cell_type": "code",
      "source": [
        "data_url = \"https://archive.ics.uci.edu/ml/machine-learning-databases/autos/imports-85.data\"\n",
        "column_names = [\"symboling\",\"normalized-losses\",\"make\",\"fuel-type\",\"aspiration\", \"num-of-doors\",\"body-style\", \"drive-wheels\",\"engine-location\",\"wheel-base\",\"length\",\"width\",\"height\",\"curb-weight\",\"engine-type\",\"num-of-cylinders\", \"engine-size\",\"fuel-system\",\"bore\",\"stroke\",\"compression-ratio\",\"horsepower\",\n",
        "\"peak-rpm\",\"city-mpg\",\"highway-mpg\",\"price\"]"
      ],
      "metadata": {
        "id": "gZk4ikm1W5iY"
      },
      "execution_count": 51,
      "outputs": []
    },
    {
      "cell_type": "code",
      "source": [
        "df_data = pd.read_csv(data_url, names = column_names, delimiter= \",\", na_values= \"?\")"
      ],
      "metadata": {
        "id": "x2KH0z42XH3v"
      },
      "execution_count": 52,
      "outputs": []
    },
    {
      "cell_type": "code",
      "source": [
        "print(df_data.head(5))"
      ],
      "metadata": {
        "colab": {
          "base_uri": "https://localhost:8080/"
        },
        "id": "EtPAeZBVYBeA",
        "outputId": "fe6437b5-96e5-4c8c-d5c9-71d8624ca57b"
      },
      "execution_count": 53,
      "outputs": [
        {
          "output_type": "stream",
          "name": "stdout",
          "text": [
            "   symboling  normalized-losses         make fuel-type aspiration  \\\n",
            "0          3                NaN  alfa-romero       gas        std   \n",
            "1          3                NaN  alfa-romero       gas        std   \n",
            "2          1                NaN  alfa-romero       gas        std   \n",
            "3          2              164.0         audi       gas        std   \n",
            "4          2              164.0         audi       gas        std   \n",
            "\n",
            "  num-of-doors   body-style drive-wheels engine-location  wheel-base  ...  \\\n",
            "0          two  convertible          rwd           front        88.6  ...   \n",
            "1          two  convertible          rwd           front        88.6  ...   \n",
            "2          two    hatchback          rwd           front        94.5  ...   \n",
            "3         four        sedan          fwd           front        99.8  ...   \n",
            "4         four        sedan          4wd           front        99.4  ...   \n",
            "\n",
            "   engine-size  fuel-system  bore  stroke compression-ratio horsepower  \\\n",
            "0          130         mpfi  3.47    2.68               9.0      111.0   \n",
            "1          130         mpfi  3.47    2.68               9.0      111.0   \n",
            "2          152         mpfi  2.68    3.47               9.0      154.0   \n",
            "3          109         mpfi  3.19    3.40              10.0      102.0   \n",
            "4          136         mpfi  3.19    3.40               8.0      115.0   \n",
            "\n",
            "   peak-rpm city-mpg  highway-mpg    price  \n",
            "0    5000.0       21           27  13495.0  \n",
            "1    5000.0       21           27  16500.0  \n",
            "2    5000.0       19           26  16500.0  \n",
            "3    5500.0       24           30  13950.0  \n",
            "4    5500.0       18           22  17450.0  \n",
            "\n",
            "[5 rows x 26 columns]\n"
          ]
        }
      ]
    },
    {
      "cell_type": "code",
      "source": [
        "print(df_data.shape)\n",
        "print(df_data.columns)\n",
        "print(df_data.info())\n",
        "print(df_data.describe())"
      ],
      "metadata": {
        "colab": {
          "base_uri": "https://localhost:8080/"
        },
        "id": "OBQGRczbYn-x",
        "outputId": "3d8f4b32-197f-4c3a-b93a-1a8a38d66172"
      },
      "execution_count": 54,
      "outputs": [
        {
          "output_type": "stream",
          "name": "stdout",
          "text": [
            "(205, 26)\n",
            "Index(['symboling', 'normalized-losses', 'make', 'fuel-type', 'aspiration',\n",
            "       'num-of-doors', 'body-style', 'drive-wheels', 'engine-location',\n",
            "       'wheel-base', 'length', 'width', 'height', 'curb-weight', 'engine-type',\n",
            "       'num-of-cylinders', 'engine-size', 'fuel-system', 'bore', 'stroke',\n",
            "       'compression-ratio', 'horsepower', 'peak-rpm', 'city-mpg',\n",
            "       'highway-mpg', 'price'],\n",
            "      dtype='object')\n",
            "<class 'pandas.core.frame.DataFrame'>\n",
            "RangeIndex: 205 entries, 0 to 204\n",
            "Data columns (total 26 columns):\n",
            " #   Column             Non-Null Count  Dtype  \n",
            "---  ------             --------------  -----  \n",
            " 0   symboling          205 non-null    int64  \n",
            " 1   normalized-losses  164 non-null    float64\n",
            " 2   make               205 non-null    object \n",
            " 3   fuel-type          205 non-null    object \n",
            " 4   aspiration         205 non-null    object \n",
            " 5   num-of-doors       203 non-null    object \n",
            " 6   body-style         205 non-null    object \n",
            " 7   drive-wheels       205 non-null    object \n",
            " 8   engine-location    205 non-null    object \n",
            " 9   wheel-base         205 non-null    float64\n",
            " 10  length             205 non-null    float64\n",
            " 11  width              205 non-null    float64\n",
            " 12  height             205 non-null    float64\n",
            " 13  curb-weight        205 non-null    int64  \n",
            " 14  engine-type        205 non-null    object \n",
            " 15  num-of-cylinders   205 non-null    object \n",
            " 16  engine-size        205 non-null    int64  \n",
            " 17  fuel-system        205 non-null    object \n",
            " 18  bore               201 non-null    float64\n",
            " 19  stroke             201 non-null    float64\n",
            " 20  compression-ratio  205 non-null    float64\n",
            " 21  horsepower         203 non-null    float64\n",
            " 22  peak-rpm           203 non-null    float64\n",
            " 23  city-mpg           205 non-null    int64  \n",
            " 24  highway-mpg        205 non-null    int64  \n",
            " 25  price              201 non-null    float64\n",
            "dtypes: float64(11), int64(5), object(10)\n",
            "memory usage: 41.8+ KB\n",
            "None\n",
            "        symboling  normalized-losses  wheel-base      length       width  \\\n",
            "count  205.000000         164.000000  205.000000  205.000000  205.000000   \n",
            "mean     0.834146         122.000000   98.756585  174.049268   65.907805   \n",
            "std      1.245307          35.442168    6.021776   12.337289    2.145204   \n",
            "min     -2.000000          65.000000   86.600000  141.100000   60.300000   \n",
            "25%      0.000000          94.000000   94.500000  166.300000   64.100000   \n",
            "50%      1.000000         115.000000   97.000000  173.200000   65.500000   \n",
            "75%      2.000000         150.000000  102.400000  183.100000   66.900000   \n",
            "max      3.000000         256.000000  120.900000  208.100000   72.300000   \n",
            "\n",
            "           height  curb-weight  engine-size        bore      stroke  \\\n",
            "count  205.000000   205.000000   205.000000  201.000000  201.000000   \n",
            "mean    53.724878  2555.565854   126.907317    3.329751    3.255423   \n",
            "std      2.443522   520.680204    41.642693    0.273539    0.316717   \n",
            "min     47.800000  1488.000000    61.000000    2.540000    2.070000   \n",
            "25%     52.000000  2145.000000    97.000000    3.150000    3.110000   \n",
            "50%     54.100000  2414.000000   120.000000    3.310000    3.290000   \n",
            "75%     55.500000  2935.000000   141.000000    3.590000    3.410000   \n",
            "max     59.800000  4066.000000   326.000000    3.940000    4.170000   \n",
            "\n",
            "       compression-ratio  horsepower     peak-rpm    city-mpg  highway-mpg  \\\n",
            "count         205.000000  203.000000   203.000000  205.000000   205.000000   \n",
            "mean           10.142537  104.256158  5125.369458   25.219512    30.751220   \n",
            "std             3.972040   39.714369   479.334560    6.542142     6.886443   \n",
            "min             7.000000   48.000000  4150.000000   13.000000    16.000000   \n",
            "25%             8.600000   70.000000  4800.000000   19.000000    25.000000   \n",
            "50%             9.000000   95.000000  5200.000000   24.000000    30.000000   \n",
            "75%             9.400000  116.000000  5500.000000   30.000000    34.000000   \n",
            "max            23.000000  288.000000  6600.000000   49.000000    54.000000   \n",
            "\n",
            "              price  \n",
            "count    201.000000  \n",
            "mean   13207.129353  \n",
            "std     7947.066342  \n",
            "min     5118.000000  \n",
            "25%     7775.000000  \n",
            "50%    10295.000000  \n",
            "75%    16500.000000  \n",
            "max    45400.000000  \n"
          ]
        }
      ]
    },
    {
      "cell_type": "code",
      "source": [
        "print(df_data.head(5)[[\"width\",\"height\",\"curb-weight\",\"engine-type\"]])"
      ],
      "metadata": {
        "colab": {
          "base_uri": "https://localhost:8080/"
        },
        "id": "6AqFaXcJZ5Na",
        "outputId": "c7d83621-6b48-4053-d11d-0b0ccbeadca3"
      },
      "execution_count": 55,
      "outputs": [
        {
          "output_type": "stream",
          "name": "stdout",
          "text": [
            "   width  height  curb-weight engine-type\n",
            "0   64.1    48.8         2548        dohc\n",
            "1   64.1    48.8         2548        dohc\n",
            "2   65.5    52.4         2823        ohcv\n",
            "3   66.2    54.3         2337         ohc\n",
            "4   66.4    54.3         2824         ohc\n"
          ]
        }
      ]
    },
    {
      "cell_type": "code",
      "source": [
        "print(df_data[df_data[\"num-of-doors\"] == \"four\"].head(5))"
      ],
      "metadata": {
        "colab": {
          "base_uri": "https://localhost:8080/"
        },
        "id": "wtzAR5M8ak-j",
        "outputId": "7d36a087-09e1-4bd3-a2e8-32f40b317011"
      },
      "execution_count": 56,
      "outputs": [
        {
          "output_type": "stream",
          "name": "stdout",
          "text": [
            "   symboling  normalized-losses  make fuel-type aspiration num-of-doors  \\\n",
            "3          2              164.0  audi       gas        std         four   \n",
            "4          2              164.0  audi       gas        std         four   \n",
            "6          1              158.0  audi       gas        std         four   \n",
            "7          1                NaN  audi       gas        std         four   \n",
            "8          1              158.0  audi       gas      turbo         four   \n",
            "\n",
            "  body-style drive-wheels engine-location  wheel-base  ...  engine-size  \\\n",
            "3      sedan          fwd           front        99.8  ...          109   \n",
            "4      sedan          4wd           front        99.4  ...          136   \n",
            "6      sedan          fwd           front       105.8  ...          136   \n",
            "7      wagon          fwd           front       105.8  ...          136   \n",
            "8      sedan          fwd           front       105.8  ...          131   \n",
            "\n",
            "   fuel-system  bore  stroke compression-ratio horsepower  peak-rpm city-mpg  \\\n",
            "3         mpfi  3.19     3.4              10.0      102.0    5500.0       24   \n",
            "4         mpfi  3.19     3.4               8.0      115.0    5500.0       18   \n",
            "6         mpfi  3.19     3.4               8.5      110.0    5500.0       19   \n",
            "7         mpfi  3.19     3.4               8.5      110.0    5500.0       19   \n",
            "8         mpfi  3.13     3.4               8.3      140.0    5500.0       17   \n",
            "\n",
            "   highway-mpg    price  \n",
            "3           30  13950.0  \n",
            "4           22  17450.0  \n",
            "6           25  17710.0  \n",
            "7           25  18920.0  \n",
            "8           20  23875.0  \n",
            "\n",
            "[5 rows x 26 columns]\n"
          ]
        }
      ]
    },
    {
      "cell_type": "markdown",
      "source": [
        "### 3.Missing values handling  \n",
        "- Missing value is represented by ‘?’ in this dataset. Replace it with NULL.\n",
        "- Check how many missing values are there in each attribute.\n",
        "- Replace missing values of \"normalized-losses\", \"stroke\", \"bore\", \"horsepower\" with\n",
        "mean.\n",
        "- Drop all the rows which has missing value in attribute “price”.**bold text**\n",
        "- Replace missing values of “num-of-doors” with mode.\n",
        "- Replace all other missing values with median."
      ],
      "metadata": {
        "id": "nyb21uUoeGaB"
      }
    },
    {
      "cell_type": "code",
      "source": [
        "#Missing value is represented by ‘?’ in this dataset. Replace it with NULL.\n",
        "print(df_data.head(7).fillna(value = \"NULL\"))"
      ],
      "metadata": {
        "colab": {
          "base_uri": "https://localhost:8080/"
        },
        "id": "dfN9Z8QHebRC",
        "outputId": "21da9cf9-49a3-4953-ac19-a8935302d1b6"
      },
      "execution_count": 57,
      "outputs": [
        {
          "output_type": "stream",
          "name": "stdout",
          "text": [
            "   symboling normalized-losses         make fuel-type aspiration num-of-doors  \\\n",
            "0          3              NULL  alfa-romero       gas        std          two   \n",
            "1          3              NULL  alfa-romero       gas        std          two   \n",
            "2          1              NULL  alfa-romero       gas        std          two   \n",
            "3          2             164.0         audi       gas        std         four   \n",
            "4          2             164.0         audi       gas        std         four   \n",
            "5          2              NULL         audi       gas        std          two   \n",
            "6          1             158.0         audi       gas        std         four   \n",
            "\n",
            "    body-style drive-wheels engine-location  wheel-base  ...  engine-size  \\\n",
            "0  convertible          rwd           front        88.6  ...          130   \n",
            "1  convertible          rwd           front        88.6  ...          130   \n",
            "2    hatchback          rwd           front        94.5  ...          152   \n",
            "3        sedan          fwd           front        99.8  ...          109   \n",
            "4        sedan          4wd           front        99.4  ...          136   \n",
            "5        sedan          fwd           front        99.8  ...          136   \n",
            "6        sedan          fwd           front       105.8  ...          136   \n",
            "\n",
            "   fuel-system  bore  stroke compression-ratio horsepower  peak-rpm city-mpg  \\\n",
            "0         mpfi  3.47    2.68               9.0      111.0    5000.0       21   \n",
            "1         mpfi  3.47    2.68               9.0      111.0    5000.0       21   \n",
            "2         mpfi  2.68    3.47               9.0      154.0    5000.0       19   \n",
            "3         mpfi  3.19    3.40              10.0      102.0    5500.0       24   \n",
            "4         mpfi  3.19    3.40               8.0      115.0    5500.0       18   \n",
            "5         mpfi  3.19    3.40               8.5      110.0    5500.0       19   \n",
            "6         mpfi  3.19    3.40               8.5      110.0    5500.0       19   \n",
            "\n",
            "   highway-mpg    price  \n",
            "0           27  13495.0  \n",
            "1           27  16500.0  \n",
            "2           26  16500.0  \n",
            "3           30  13950.0  \n",
            "4           22  17450.0  \n",
            "5           25  15250.0  \n",
            "6           25  17710.0  \n",
            "\n",
            "[7 rows x 26 columns]\n"
          ]
        }
      ]
    },
    {
      "cell_type": "code",
      "metadata": {
        "colab": {
          "base_uri": "https://localhost:8080/"
        },
        "id": "cec0e280",
        "outputId": "368d7f1f-455e-4496-d70d-9920a90322fc"
      },
      "source": [
        "#Check how many missing values are there in each attribute.\n",
        "print(df_data.isnull().sum())"
      ],
      "execution_count": 58,
      "outputs": [
        {
          "output_type": "stream",
          "name": "stdout",
          "text": [
            "symboling             0\n",
            "normalized-losses    41\n",
            "make                  0\n",
            "fuel-type             0\n",
            "aspiration            0\n",
            "num-of-doors          2\n",
            "body-style            0\n",
            "drive-wheels          0\n",
            "engine-location       0\n",
            "wheel-base            0\n",
            "length                0\n",
            "width                 0\n",
            "height                0\n",
            "curb-weight           0\n",
            "engine-type           0\n",
            "num-of-cylinders      0\n",
            "engine-size           0\n",
            "fuel-system           0\n",
            "bore                  4\n",
            "stroke                4\n",
            "compression-ratio     0\n",
            "horsepower            2\n",
            "peak-rpm              2\n",
            "city-mpg              0\n",
            "highway-mpg           0\n",
            "price                 4\n",
            "dtype: int64\n"
          ]
        }
      ]
    },
    {
      "cell_type": "code",
      "source": [
        "#Replace missing values of \"normalized-losses\", \"stroke\", \"bore\", \"horsepower\" with mean.\n",
        "df_data[\"normalized-losses\"] = df_data[\"normalized-losses\"].fillna(df_data[\"normalized-losses\"].mean())\n",
        "df_data[\"stroke\"] = df_data[\"stroke\"].fillna(df_data[\"stroke\"].mean())\n",
        "df_data[\"bore\"] = df_data[\"bore\"].fillna(df_data[\"bore\"].mean())\n",
        "df_data[\"horsepower\"] = df_data[\"horsepower\"].fillna(df_data[\"horsepower\"].mean())\n",
        "\n",
        "print(df_data.head(5))\n"
      ],
      "metadata": {
        "colab": {
          "base_uri": "https://localhost:8080/"
        },
        "id": "4tG6ViT5hGuN",
        "outputId": "78af31a8-8b23-4aae-e7b9-61021b192010"
      },
      "execution_count": 59,
      "outputs": [
        {
          "output_type": "stream",
          "name": "stdout",
          "text": [
            "   symboling  normalized-losses         make fuel-type aspiration  \\\n",
            "0          3              122.0  alfa-romero       gas        std   \n",
            "1          3              122.0  alfa-romero       gas        std   \n",
            "2          1              122.0  alfa-romero       gas        std   \n",
            "3          2              164.0         audi       gas        std   \n",
            "4          2              164.0         audi       gas        std   \n",
            "\n",
            "  num-of-doors   body-style drive-wheels engine-location  wheel-base  ...  \\\n",
            "0          two  convertible          rwd           front        88.6  ...   \n",
            "1          two  convertible          rwd           front        88.6  ...   \n",
            "2          two    hatchback          rwd           front        94.5  ...   \n",
            "3         four        sedan          fwd           front        99.8  ...   \n",
            "4         four        sedan          4wd           front        99.4  ...   \n",
            "\n",
            "   engine-size  fuel-system  bore  stroke compression-ratio horsepower  \\\n",
            "0          130         mpfi  3.47    2.68               9.0      111.0   \n",
            "1          130         mpfi  3.47    2.68               9.0      111.0   \n",
            "2          152         mpfi  2.68    3.47               9.0      154.0   \n",
            "3          109         mpfi  3.19    3.40              10.0      102.0   \n",
            "4          136         mpfi  3.19    3.40               8.0      115.0   \n",
            "\n",
            "   peak-rpm city-mpg  highway-mpg    price  \n",
            "0    5000.0       21           27  13495.0  \n",
            "1    5000.0       21           27  16500.0  \n",
            "2    5000.0       19           26  16500.0  \n",
            "3    5500.0       24           30  13950.0  \n",
            "4    5500.0       18           22  17450.0  \n",
            "\n",
            "[5 rows x 26 columns]\n"
          ]
        }
      ]
    },
    {
      "cell_type": "code",
      "source": [
        "#Drop all the rows which has missing value in attribute “price”\n",
        "\n",
        "print(df_data[df_data[\"price\"].isnull()])\n",
        "df_data = df_data.dropna(subset=['price'])"
      ],
      "metadata": {
        "colab": {
          "base_uri": "https://localhost:8080/"
        },
        "id": "iVQkTzUx7gO4",
        "outputId": "5d7e68b8-6a84-4c18-aa06-8ff683d626f0"
      },
      "execution_count": 60,
      "outputs": [
        {
          "output_type": "stream",
          "name": "stdout",
          "text": [
            "     symboling  normalized-losses     make fuel-type aspiration num-of-doors  \\\n",
            "9            0              122.0     audi       gas      turbo          two   \n",
            "44           1              122.0    isuzu       gas        std          two   \n",
            "45           0              122.0    isuzu       gas        std         four   \n",
            "129          1              122.0  porsche       gas        std          two   \n",
            "\n",
            "    body-style drive-wheels engine-location  wheel-base  ...  engine-size  \\\n",
            "9    hatchback          4wd           front        99.5  ...          131   \n",
            "44       sedan          fwd           front        94.5  ...           90   \n",
            "45       sedan          fwd           front        94.5  ...           90   \n",
            "129  hatchback          rwd           front        98.4  ...          203   \n",
            "\n",
            "     fuel-system  bore  stroke compression-ratio horsepower  peak-rpm  \\\n",
            "9           mpfi  3.13    3.40               7.0      160.0    5500.0   \n",
            "44          2bbl  3.03    3.11               9.6       70.0    5400.0   \n",
            "45          2bbl  3.03    3.11               9.6       70.0    5400.0   \n",
            "129         mpfi  3.94    3.11              10.0      288.0    5750.0   \n",
            "\n",
            "    city-mpg  highway-mpg  price  \n",
            "9         16           22    NaN  \n",
            "44        38           43    NaN  \n",
            "45        38           43    NaN  \n",
            "129       17           28    NaN  \n",
            "\n",
            "[4 rows x 26 columns]\n"
          ]
        }
      ]
    },
    {
      "cell_type": "code",
      "source": [
        "# Replace missing values of “num-of-doors” with mode.\n",
        "df_data[\"num-of-doors\"] = df_data[\"num-of-doors\"].fillna(df_data[\"num-of-doors\"].mode()[0])\n",
        "print(df_data.head(5))"
      ],
      "metadata": {
        "colab": {
          "base_uri": "https://localhost:8080/"
        },
        "id": "4E2BwATPH0_V",
        "outputId": "c41950bc-47e6-4ce1-c48b-53934986f7a2"
      },
      "execution_count": 61,
      "outputs": [
        {
          "output_type": "stream",
          "name": "stdout",
          "text": [
            "   symboling  normalized-losses         make fuel-type aspiration  \\\n",
            "0          3              122.0  alfa-romero       gas        std   \n",
            "1          3              122.0  alfa-romero       gas        std   \n",
            "2          1              122.0  alfa-romero       gas        std   \n",
            "3          2              164.0         audi       gas        std   \n",
            "4          2              164.0         audi       gas        std   \n",
            "\n",
            "  num-of-doors   body-style drive-wheels engine-location  wheel-base  ...  \\\n",
            "0          two  convertible          rwd           front        88.6  ...   \n",
            "1          two  convertible          rwd           front        88.6  ...   \n",
            "2          two    hatchback          rwd           front        94.5  ...   \n",
            "3         four        sedan          fwd           front        99.8  ...   \n",
            "4         four        sedan          4wd           front        99.4  ...   \n",
            "\n",
            "   engine-size  fuel-system  bore  stroke compression-ratio horsepower  \\\n",
            "0          130         mpfi  3.47    2.68               9.0      111.0   \n",
            "1          130         mpfi  3.47    2.68               9.0      111.0   \n",
            "2          152         mpfi  2.68    3.47               9.0      154.0   \n",
            "3          109         mpfi  3.19    3.40              10.0      102.0   \n",
            "4          136         mpfi  3.19    3.40               8.0      115.0   \n",
            "\n",
            "   peak-rpm city-mpg  highway-mpg    price  \n",
            "0    5000.0       21           27  13495.0  \n",
            "1    5000.0       21           27  16500.0  \n",
            "2    5000.0       19           26  16500.0  \n",
            "3    5500.0       24           30  13950.0  \n",
            "4    5500.0       18           22  17450.0  \n",
            "\n",
            "[5 rows x 26 columns]\n"
          ]
        },
        {
          "output_type": "stream",
          "name": "stderr",
          "text": [
            "/tmp/ipython-input-61-1088669806.py:2: SettingWithCopyWarning: \n",
            "A value is trying to be set on a copy of a slice from a DataFrame.\n",
            "Try using .loc[row_indexer,col_indexer] = value instead\n",
            "\n",
            "See the caveats in the documentation: https://pandas.pydata.org/pandas-docs/stable/user_guide/indexing.html#returning-a-view-versus-a-copy\n",
            "  df_data[\"num-of-doors\"] = df_data[\"num-of-doors\"].fillna(df_data[\"num-of-doors\"].mode()[0])\n"
          ]
        }
      ]
    },
    {
      "cell_type": "code",
      "source": [
        "# Replace all other missing values with median.\n",
        "# peak-rpm has 2 missing values\n",
        "df_data[\"peak-rpm\"] = df_data[\"peak-rpm\"].fillna(df_data[\"peak-rpm\"].median())\n",
        "#no missing values\n",
        "print(df_data.isnull().sum())"
      ],
      "metadata": {
        "colab": {
          "base_uri": "https://localhost:8080/"
        },
        "id": "6GTTEJXQIfao",
        "outputId": "af1dc4fe-525e-477f-fed2-47966f2768c6"
      },
      "execution_count": 62,
      "outputs": [
        {
          "output_type": "stream",
          "name": "stdout",
          "text": [
            "symboling            0\n",
            "normalized-losses    0\n",
            "make                 0\n",
            "fuel-type            0\n",
            "aspiration           0\n",
            "num-of-doors         0\n",
            "body-style           0\n",
            "drive-wheels         0\n",
            "engine-location      0\n",
            "wheel-base           0\n",
            "length               0\n",
            "width                0\n",
            "height               0\n",
            "curb-weight          0\n",
            "engine-type          0\n",
            "num-of-cylinders     0\n",
            "engine-size          0\n",
            "fuel-system          0\n",
            "bore                 0\n",
            "stroke               0\n",
            "compression-ratio    0\n",
            "horsepower           0\n",
            "peak-rpm             0\n",
            "city-mpg             0\n",
            "highway-mpg          0\n",
            "price                0\n",
            "dtype: int64\n"
          ]
        },
        {
          "output_type": "stream",
          "name": "stderr",
          "text": [
            "/tmp/ipython-input-62-1935293583.py:3: SettingWithCopyWarning: \n",
            "A value is trying to be set on a copy of a slice from a DataFrame.\n",
            "Try using .loc[row_indexer,col_indexer] = value instead\n",
            "\n",
            "See the caveats in the documentation: https://pandas.pydata.org/pandas-docs/stable/user_guide/indexing.html#returning-a-view-versus-a-copy\n",
            "  df_data[\"peak-rpm\"] = df_data[\"peak-rpm\"].fillna(df_data[\"peak-rpm\"].median())\n"
          ]
        }
      ]
    },
    {
      "cell_type": "markdown",
      "source": [
        "### 4.Grouping, Sorting, and Aggregation  \n",
        "- Group by “Fuel-type” and compute average price.\n",
        "- In our dataset, the fuel consumption columns \"city-mpg\" and \"highway-mpg\" are\n",
        "represented by mpg (miles per gallon) unit.\n",
        "\n",
        "    Assume we are developing an application in\n",
        "    a country that accept the fuel consumption with L/100km standard\n",
        "We will need to apply data transformation to transform mpg into L/100km?\n",
        "      The formula for unit conversion is\n",
        "      L/100km = 235 / mpg\n",
        "-Sort the DataFrame based on “price” in descending order."
      ],
      "metadata": {
        "id": "bZBnuVxmJ__0"
      }
    },
    {
      "cell_type": "code",
      "metadata": {
        "colab": {
          "base_uri": "https://localhost:8080/"
        },
        "id": "db5b255d",
        "outputId": "f3f10c4d-57b5-412c-c461-7977a7eb113e"
      },
      "source": [
        "# Group by “Fuel-type” and compute average price.\n",
        "fuel_price = df_data.groupby('fuel-type')['price'].mean()\n",
        "print(fuel_price)"
      ],
      "execution_count": 63,
      "outputs": [
        {
          "output_type": "stream",
          "name": "stdout",
          "text": [
            "fuel-type\n",
            "diesel    15838.15000\n",
            "gas       12916.40884\n",
            "Name: price, dtype: float64\n"
          ]
        }
      ]
    },
    {
      "cell_type": "code",
      "source": [
        "#convert mpg (miles per gallon) to  L/100km standard for 2 rows \"city-mpg\" and \"highway-mpg\".\n",
        "# conversion formula: L/100km = 235 / mpg"
      ],
      "metadata": {
        "id": "DHCaRNj9LDpL"
      },
      "execution_count": 64,
      "outputs": []
    },
    {
      "cell_type": "code",
      "metadata": {
        "colab": {
          "base_uri": "https://localhost:8080/"
        },
        "id": "69eb0570",
        "outputId": "237840c9-4b50-4c0e-99ec-a66316103bde"
      },
      "source": [
        "# Convert mpg to L/100km\n",
        "df_data['city-L/100km'] = 235 / df_data['city-mpg']\n",
        "df_data['highway-L/100km'] = 235 / df_data['highway-mpg']\n",
        "\n",
        "# Display the first 5 rows with the new columns\n",
        "print(df_data[['city-mpg', 'city-L/100km', 'highway-mpg', 'highway-L/100km']].head())"
      ],
      "execution_count": 65,
      "outputs": [
        {
          "output_type": "stream",
          "name": "stdout",
          "text": [
            "   city-mpg  city-L/100km  highway-mpg  highway-L/100km\n",
            "0        21     11.190476           27         8.703704\n",
            "1        21     11.190476           27         8.703704\n",
            "2        19     12.368421           26         9.038462\n",
            "3        24      9.791667           30         7.833333\n",
            "4        18     13.055556           22        10.681818\n"
          ]
        }
      ]
    },
    {
      "cell_type": "code",
      "source": [
        "#Sort the DataFrame based on “price” in descending order."
      ],
      "metadata": {
        "id": "J29TFSvBZNbW"
      },
      "execution_count": 66,
      "outputs": []
    },
    {
      "cell_type": "code",
      "metadata": {
        "colab": {
          "base_uri": "https://localhost:8080/"
        },
        "id": "11e65e48",
        "outputId": "36123bc7-e412-45f8-e1aa-bf5b0862cc34"
      },
      "source": [
        "# Sort the DataFrame based on “price” in descending order.\n",
        "df_data_sorted = df_data.sort_values(by='price', ascending=False)\n",
        "print(df_data_sorted[\"price\"].head(7))"
      ],
      "execution_count": 67,
      "outputs": [
        {
          "output_type": "stream",
          "name": "stdout",
          "text": [
            "74     45400.0\n",
            "16     41315.0\n",
            "73     40960.0\n",
            "128    37028.0\n",
            "17     36880.0\n",
            "49     36000.0\n",
            "48     35550.0\n",
            "Name: price, dtype: float64\n"
          ]
        }
      ]
    }
  ],
  "metadata": {
    "colab": {
      "name": "Welcome To Colab",
      "toc_visible": true,
      "provenance": [],
      "include_colab_link": true
    },
    "kernelspec": {
      "display_name": "Python 3",
      "name": "python3"
    }
  },
  "nbformat": 4,
  "nbformat_minor": 0
}
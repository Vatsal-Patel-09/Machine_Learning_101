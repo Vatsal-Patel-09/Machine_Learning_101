{
  "cells": [
    {
      "cell_type": "markdown",
      "metadata": {
        "id": "view-in-github",
        "colab_type": "text"
      },
      "source": [
        "<a href=\"https://colab.research.google.com/github/Vatsal-Patel-09/Machine_Learning_101/blob/main/Lab_2.ipynb\" target=\"_parent\"><img src=\"https://colab.research.google.com/assets/colab-badge.svg\" alt=\"Open In Colab\"/></a>"
      ]
    },
    {
      "cell_type": "code",
      "source": [
        "import numpy as np\n",
        "import pandas as pd"
      ],
      "metadata": {
        "id": "rRlgljCKMJg0"
      },
      "execution_count": 50,
      "outputs": []
    },
    {
      "cell_type": "code",
      "source": [
        "data = [10,12,19,20]"
      ],
      "metadata": {
        "id": "LUYVfOMKMOiP"
      },
      "execution_count": 51,
      "outputs": []
    },
    {
      "cell_type": "code",
      "source": [
        "print(np.mean(data))\n",
        "print(np.median(data))\n",
        "print(pd.Series(data).mode())"
      ],
      "metadata": {
        "colab": {
          "base_uri": "https://localhost:8080/"
        },
        "id": "9nD5JLikMTd_",
        "outputId": "500e8863-6954-4e92-f84e-556f761f0128"
      },
      "execution_count": 52,
      "outputs": [
        {
          "output_type": "stream",
          "name": "stdout",
          "text": [
            "15.25\n",
            "15.5\n",
            "0    10\n",
            "1    12\n",
            "2    19\n",
            "3    20\n",
            "dtype: int64\n"
          ]
        }
      ]
    },
    {
      "cell_type": "code",
      "source": [
        "# Find mean mode and median of cylinders of auto mpg dataset"
      ],
      "metadata": {
        "id": "1Y7uUDvQOctb"
      },
      "execution_count": 53,
      "outputs": []
    },
    {
      "cell_type": "markdown",
      "source": [],
      "metadata": {
        "id": "C3KZaN43Q4Op"
      }
    },
    {
      "cell_type": "code",
      "source": [
        "# data_url = \"/content/sample_data/Vatsal_costum_data/auto-mpg.csv\" #dataset local ploaded\n",
        "data_url = \"https://archive.ics.uci.edu/ml/machine-learning-databases/auto-mpg/auto-mpg.data\"\n",
        "column_names = [\"mpg\", \"cylinders\", \"displacement\", \"horsepower\", \"weight\", \"acceleration\", \"model year\", \"origin\", \"car name\"]"
      ],
      "metadata": {
        "id": "BnX7fPXAOkJ2"
      },
      "execution_count": 54,
      "outputs": []
    },
    {
      "cell_type": "code",
      "source": [
        "df = pd.read_csv(data_url, names = column_names , delim_whitespace= True, na_values= \"?\")\n",
        "print(df.head(10))"
      ],
      "metadata": {
        "colab": {
          "base_uri": "https://localhost:8080/"
        },
        "id": "O1WZEb-4PFYT",
        "outputId": "b2778438-ea98-4018-a511-f4da34147b75"
      },
      "execution_count": 55,
      "outputs": [
        {
          "output_type": "stream",
          "name": "stderr",
          "text": [
            "/tmp/ipython-input-55-1370937924.py:1: FutureWarning: The 'delim_whitespace' keyword in pd.read_csv is deprecated and will be removed in a future version. Use ``sep='\\s+'`` instead\n",
            "  df = pd.read_csv(data_url, names = column_names , delim_whitespace= True, na_values= \"?\")\n"
          ]
        },
        {
          "output_type": "stream",
          "name": "stdout",
          "text": [
            "    mpg  cylinders  displacement  horsepower  weight  acceleration  \\\n",
            "0  18.0          8         307.0       130.0  3504.0          12.0   \n",
            "1  15.0          8         350.0       165.0  3693.0          11.5   \n",
            "2  18.0          8         318.0       150.0  3436.0          11.0   \n",
            "3  16.0          8         304.0       150.0  3433.0          12.0   \n",
            "4  17.0          8         302.0       140.0  3449.0          10.5   \n",
            "5  15.0          8         429.0       198.0  4341.0          10.0   \n",
            "6  14.0          8         454.0       220.0  4354.0           9.0   \n",
            "7  14.0          8         440.0       215.0  4312.0           8.5   \n",
            "8  14.0          8         455.0       225.0  4425.0          10.0   \n",
            "9  15.0          8         390.0       190.0  3850.0           8.5   \n",
            "\n",
            "   model year  origin                   car name  \n",
            "0          70       1  chevrolet chevelle malibu  \n",
            "1          70       1          buick skylark 320  \n",
            "2          70       1         plymouth satellite  \n",
            "3          70       1              amc rebel sst  \n",
            "4          70       1                ford torino  \n",
            "5          70       1           ford galaxie 500  \n",
            "6          70       1           chevrolet impala  \n",
            "7          70       1          plymouth fury iii  \n",
            "8          70       1           pontiac catalina  \n",
            "9          70       1         amc ambassador dpl  \n"
          ]
        }
      ]
    },
    {
      "cell_type": "code",
      "source": [
        "mean_cylinders = df[\"cylinders\"].mean()\n",
        "median_cylinders = df[\"cylinders\"].median()\n",
        "mode_cylinders = df[\"cylinders\"].mode()"
      ],
      "metadata": {
        "id": "IbzxrCfwTC7A"
      },
      "execution_count": 56,
      "outputs": []
    },
    {
      "cell_type": "code",
      "source": [
        "print(\"Mean of cylinders: \", mean_cylinders)\n",
        "print(\"Median of cylinders: \", median_cylinders)\n",
        "print(\"Mode of cylinders: \", mode_cylinders[0])"
      ],
      "metadata": {
        "id": "PriObi6IRbMz",
        "outputId": "97009814-d43c-4ebf-9a6e-ca8737c0cc89",
        "colab": {
          "base_uri": "https://localhost:8080/"
        }
      },
      "execution_count": 58,
      "outputs": [
        {
          "output_type": "stream",
          "name": "stdout",
          "text": [
            "Mean of cylinders:  5.454773869346734\n",
            "Median of cylinders:  4.0\n",
            "Mode of cylinders:  4\n"
          ]
        }
      ]
    }
  ],
  "metadata": {
    "colab": {
      "name": "Welcome To Colab",
      "provenance": [],
      "include_colab_link": true
    },
    "kernelspec": {
      "display_name": "Python 3",
      "name": "python3"
    }
  },
  "nbformat": 4,
  "nbformat_minor": 0
}

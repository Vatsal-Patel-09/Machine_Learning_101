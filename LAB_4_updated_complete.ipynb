{
  "nbformat": 4,
  "nbformat_minor": 0,
  "metadata": {
    "colab": {
      "provenance": [],
      "toc_visible": true,
      "authorship_tag": "ABX9TyOMHjzWVxHnYgb+vJsQHuV5",
      "include_colab_link": true
    },
    "kernelspec": {
      "name": "python3",
      "display_name": "Python 3"
    },
    "language_info": {
      "name": "python"
    }
  },
  "cells": [
    {
      "cell_type": "markdown",
      "metadata": {
        "id": "view-in-github",
        "colab_type": "text"
      },
      "source": [
        "<a href=\"https://colab.research.google.com/github/Vatsal-Patel-09/Machine_Learning_101/blob/main/LAB_4_updated_complete.ipynb\" target=\"_parent\"><img src=\"https://colab.research.google.com/assets/colab-badge.svg\" alt=\"Open In Colab\"/></a>"
      ]
    },
    {
      "cell_type": "markdown",
      "source": [
        "# LAB 4: Exploratory Data Analysis, Feature Engineering, and Feature Selection"
      ],
      "metadata": {
        "id": "_OOa6-c4ZSHl"
      }
    },
    {
      "cell_type": "markdown",
      "source": [
        "#### Dataset"
      ],
      "metadata": {
        "id": "Gtx1VQNtYjKR"
      }
    },
    {
      "cell_type": "code",
      "source": [
        "import pandas as pd\n",
        "import seaborn as sns\n",
        "import matplotlib.pyplot as plt"
      ],
      "metadata": {
        "id": "t6ggZo9pYlNr"
      },
      "execution_count": 64,
      "outputs": []
    },
    {
      "cell_type": "code",
      "source": [
        "df = sns.load_dataset('titanic')"
      ],
      "metadata": {
        "id": "Xx1SErnyYzWQ"
      },
      "execution_count": 65,
      "outputs": []
    },
    {
      "cell_type": "markdown",
      "source": [
        "## Exercise1: Exploratory Data Analysis (EDA)"
      ],
      "metadata": {
        "id": "RyQhBZJvaQVm"
      }
    },
    {
      "cell_type": "markdown",
      "source": [
        "#### Step 1: Basic Understanding\n",
        "- Use df.info() and df.describe() to understand the structure and summary\n",
        "- Display column types and count of missing values"
      ],
      "metadata": {
        "id": "iA9yIPhKY8LP"
      }
    },
    {
      "cell_type": "code",
      "source": [
        "print(df.info())\n",
        "print(df.describe)"
      ],
      "metadata": {
        "colab": {
          "base_uri": "https://localhost:8080/"
        },
        "id": "PknWoTSsZT2k",
        "outputId": "b447cdd0-a8a7-4271-ed71-3bb40e65b1fc"
      },
      "execution_count": 66,
      "outputs": [
        {
          "output_type": "stream",
          "name": "stdout",
          "text": [
            "<class 'pandas.core.frame.DataFrame'>\n",
            "RangeIndex: 891 entries, 0 to 890\n",
            "Data columns (total 15 columns):\n",
            " #   Column       Non-Null Count  Dtype   \n",
            "---  ------       --------------  -----   \n",
            " 0   survived     891 non-null    int64   \n",
            " 1   pclass       891 non-null    int64   \n",
            " 2   sex          891 non-null    object  \n",
            " 3   age          714 non-null    float64 \n",
            " 4   sibsp        891 non-null    int64   \n",
            " 5   parch        891 non-null    int64   \n",
            " 6   fare         891 non-null    float64 \n",
            " 7   embarked     889 non-null    object  \n",
            " 8   class        891 non-null    category\n",
            " 9   who          891 non-null    object  \n",
            " 10  adult_male   891 non-null    bool    \n",
            " 11  deck         203 non-null    category\n",
            " 12  embark_town  889 non-null    object  \n",
            " 13  alive        891 non-null    object  \n",
            " 14  alone        891 non-null    bool    \n",
            "dtypes: bool(2), category(2), float64(2), int64(4), object(5)\n",
            "memory usage: 80.7+ KB\n",
            "None\n",
            "<bound method NDFrame.describe of      survived  pclass     sex   age  sibsp  parch     fare embarked   class  \\\n",
            "0           0       3    male  22.0      1      0   7.2500        S   Third   \n",
            "1           1       1  female  38.0      1      0  71.2833        C   First   \n",
            "2           1       3  female  26.0      0      0   7.9250        S   Third   \n",
            "3           1       1  female  35.0      1      0  53.1000        S   First   \n",
            "4           0       3    male  35.0      0      0   8.0500        S   Third   \n",
            "..        ...     ...     ...   ...    ...    ...      ...      ...     ...   \n",
            "886         0       2    male  27.0      0      0  13.0000        S  Second   \n",
            "887         1       1  female  19.0      0      0  30.0000        S   First   \n",
            "888         0       3  female   NaN      1      2  23.4500        S   Third   \n",
            "889         1       1    male  26.0      0      0  30.0000        C   First   \n",
            "890         0       3    male  32.0      0      0   7.7500        Q   Third   \n",
            "\n",
            "       who  adult_male deck  embark_town alive  alone  \n",
            "0      man        True  NaN  Southampton    no  False  \n",
            "1    woman       False    C    Cherbourg   yes  False  \n",
            "2    woman       False  NaN  Southampton   yes   True  \n",
            "3    woman       False    C  Southampton   yes  False  \n",
            "4      man        True  NaN  Southampton    no   True  \n",
            "..     ...         ...  ...          ...   ...    ...  \n",
            "886    man        True  NaN  Southampton    no   True  \n",
            "887  woman       False    B  Southampton   yes   True  \n",
            "888  woman       False  NaN  Southampton    no  False  \n",
            "889    man        True    C    Cherbourg   yes   True  \n",
            "890    man        True  NaN   Queenstown    no   True  \n",
            "\n",
            "[891 rows x 15 columns]>\n"
          ]
        }
      ]
    },
    {
      "cell_type": "code",
      "source": [
        "print(df.isnull().sum())"
      ],
      "metadata": {
        "colab": {
          "base_uri": "https://localhost:8080/"
        },
        "id": "gy9enl-MZ9g6",
        "outputId": "49f94258-d3ce-4074-e77d-b1aecc31cca5"
      },
      "execution_count": 67,
      "outputs": [
        {
          "output_type": "stream",
          "name": "stdout",
          "text": [
            "survived         0\n",
            "pclass           0\n",
            "sex              0\n",
            "age            177\n",
            "sibsp            0\n",
            "parch            0\n",
            "fare             0\n",
            "embarked         2\n",
            "class            0\n",
            "who              0\n",
            "adult_male       0\n",
            "deck           688\n",
            "embark_town      2\n",
            "alive            0\n",
            "alone            0\n",
            "dtype: int64\n"
          ]
        }
      ]
    },
    {
      "cell_type": "markdown",
      "source": [
        "#### Step 2: Identify Attribute Types\n",
        " - Manually classify the following attributes:\n",
        "  - Categorical\n",
        "  - Numerical\n",
        "  - Target"
      ],
      "metadata": {
        "id": "y0JeYlNMaUdu"
      }
    },
    {
      "cell_type": "code",
      "source": [],
      "metadata": {
        "id": "orphWuhfalsc"
      },
      "execution_count": 67,
      "outputs": []
    },
    {
      "cell_type": "markdown",
      "source": [
        "#### Step 3: Understand Distribution of Attributes\n",
        "-  Compute: mean, median, std, quartiles for age, fare, parch\n",
        "- Plot:\n",
        "  - Histogram and Boxplot for age, fare  \n",
        "  - Countplot for sex, embarked, class"
      ],
      "metadata": {
        "id": "EPHyBAKYa2nC"
      }
    },
    {
      "cell_type": "code",
      "source": [
        "# Compute: mean, median, std, quartiles for age, fare, parch\n",
        "for x in ['age', 'fare', 'parch']:\n",
        "  print(x)\n",
        "  print(\"Mean: \",df[x].mean())\n",
        "  print(\"Median: \",df[x].median())\n",
        "  print(\"Std: \",df[x].std())\n",
        "  print(\"Quantile Q1: \",df[x].quantile(0.25))\n",
        "  print(\"Quantile Q2: \",df[x].quantile(0.5))\n",
        "  print(\"Quantile Q3: \",df[x].quantile(0.75))\n",
        "  print (\"\\n\")"
      ],
      "metadata": {
        "colab": {
          "base_uri": "https://localhost:8080/"
        },
        "id": "VTtgHGXtbN3g",
        "outputId": "ad30f8b6-6847-45ac-a459-b6e3d3790074"
      },
      "execution_count": 68,
      "outputs": [
        {
          "output_type": "stream",
          "name": "stdout",
          "text": [
            "age\n",
            "Mean:  29.69911764705882\n",
            "Median:  28.0\n",
            "Std:  14.526497332334044\n",
            "Quantile Q1:  20.125\n",
            "Quantile Q2:  28.0\n",
            "Quantile Q3:  38.0\n",
            "\n",
            "\n",
            "fare\n",
            "Mean:  32.204207968574636\n",
            "Median:  14.4542\n",
            "Std:  49.693428597180905\n",
            "Quantile Q1:  7.9104\n",
            "Quantile Q2:  14.4542\n",
            "Quantile Q3:  31.0\n",
            "\n",
            "\n",
            "parch\n",
            "Mean:  0.38159371492704824\n",
            "Median:  0.0\n",
            "Std:  0.8060572211299559\n",
            "Quantile Q1:  0.0\n",
            "Quantile Q2:  0.0\n",
            "Quantile Q3:  0.0\n",
            "\n",
            "\n"
          ]
        }
      ]
    },
    {
      "cell_type": "code",
      "source": [
        "#Histogram and Boxplot for age, fare\n",
        "fig, axes = plt.subplots(2, 2, figsize=(8, 6))\n",
        "\n",
        "sns.histplot(df['age'], ax=axes[0, 0])\n",
        "axes[0, 0].set_title('Age Distribution (Histogram)')\n",
        "\n",
        "sns.boxplot(x=df['age'], ax=axes[0, 1])\n",
        "axes[0, 1].set_title('Age Distribution (Boxplot)')\n",
        "\n",
        "sns.histplot(df['fare'], ax=axes[1, 0])\n",
        "axes[1, 0].set_title('Fare Distribution (Histogram)')\n",
        "\n",
        "sns.boxplot(x=df['fare'], ax=axes[1, 1])\n",
        "axes[1, 1].set_title('Fare Distribution (Boxplot)')\n",
        "\n",
        "plt.tight_layout()\n",
        "plt.show()"
      ],
      "metadata": {
        "colab": {
          "base_uri": "https://localhost:8080/",
          "height": 607
        },
        "id": "3prXbev-cxud",
        "outputId": "2adc7c55-d5f6-4dad-f0b5-1a83ee6f8292"
      },
      "execution_count": 69,
      "outputs": [
        {
          "output_type": "display_data",
          "data": {
            "text/plain": [
              "<Figure size 800x600 with 4 Axes>"
            ],
            "image/png": "[encoded data removed]"
          },
          "metadata": {}
        }
      ]
    },
    {
      "cell_type": "code",
      "source": [
        "# Countplot for sex, embarked, class\n",
        "\n",
        "fig, axes = plt.subplots(3, 1, figsize=(8, 8))\n",
        "\n",
        "sns.countplot(x='sex', data=df, ax=axes[0])\n",
        "axes[0].set_title('Sex (Countplot)')\n",
        "\n",
        "sns.countplot(x='embarked', data=df, ax=axes[1])\n",
        "axes[1].set_title('Embarked (Countplot)')\n",
        "\n",
        "sns.countplot(x='class', data=df, ax=axes[2])\n",
        "axes[2].set_title('Class (Countplot)')\n",
        "\n",
        "plt.tight_layout()\n",
        "plt.show()"
      ],
      "metadata": {
        "colab": {
          "base_uri": "https://localhost:8080/",
          "height": 807
        },
        "id": "4Y9xP6WLc-Tj",
        "outputId": "1ddb10fe-a68c-4e6d-a878-2f0b3906dc31"
      },
      "execution_count": 70,
      "outputs": [
        {
          "output_type": "display_data",
          "data": {
            "text/plain": [
              "<Figure size 800x800 with 3 Axes>"
            ],
            "image/png": "[encoded data removed]"
          },
          "metadata": {}
        }
      ]
    },
    {
      "cell_type": "markdown",
      "source": [
        "#### Step 4: Understand Relationships Among Attributes\n",
        "- Plot scatterplot between age and fare\n",
        "- Compute and visualize Pearson correlation matrix for age, fare, parch, sibsp\n",
        "- Use pd.crosstab() between:\n",
        "  - sex vs survived\n",
        "  - embarked vs class"
      ],
      "metadata": {
        "id": "TAkZAweWgT3b"
      }
    },
    {
      "cell_type": "code",
      "source": [
        "# Plot scatterplot between age and fare\n",
        "sns.scatterplot(x=df['age'], y = df[\"fare\"])\n",
        "plt.show()"
      ],
      "metadata": {
        "colab": {
          "base_uri": "https://localhost:8080/",
          "height": 449
        },
        "id": "hs1qeNsTgiXE",
        "outputId": "45cf0da5-b5af-445d-a3af-a231c32bf30a"
      },
      "execution_count": 71,
      "outputs": [
        {
          "output_type": "display_data",
          "data": {
            "text/plain": [
              "<Figure size 640x480 with 1 Axes>"
            ],
            "image/png": "[encoded data removed]"
          },
          "metadata": {}
        }
      ]
    },
    {
      "cell_type": "code",
      "source": [
        "# Compute and visualize Pearson correlation matrix for age, fare, parch, sibsp\n",
        "correlation = df[['age', 'fare', 'parch', 'sibsp']].corr()\n",
        "sns.heatmap(correlation, annot=True)\n",
        "plt.show()"
      ],
      "metadata": {
        "colab": {
          "base_uri": "https://localhost:8080/",
          "height": 435
        },
        "id": "mP8KW66Whayl",
        "outputId": "971a0cbe-7503-4797-c24b-015cb8092a84"
      },
      "execution_count": 72,
      "outputs": [
        {
          "output_type": "display_data",
          "data": {
            "text/plain": [
              "<Figure size 640x480 with 2 Axes>"
            ],
            "image/png": "[encoded data removed]"
          },
          "metadata": {}
        }
      ]
    },
    {
      "cell_type": "code",
      "source": [
        "#Use pd.crosstab() between:\n",
        "#  - sex vs survived\n",
        "print(\"sex vs survived\")\n",
        "pd.crosstab(df['sex'], df['survived'])"
      ],
      "metadata": {
        "colab": {
          "base_uri": "https://localhost:8080/",
          "height": 161
        },
        "id": "1n-3HAWOimCb",
        "outputId": "e7f3e5f4-7a01-4e97-8125-82346265ccaa"
      },
      "execution_count": 73,
      "outputs": [
        {
          "output_type": "stream",
          "name": "stdout",
          "text": [
            "sex vs survived\n"
          ]
        },
        {
          "output_type": "execute_result",
          "data": {
            "text/plain": [
              "survived    0    1\n",
              "sex               \n",
              "female     81  233\n",
              "male      468  109"
            ],
            "text/html": [
              "\n",
              "  <div id=\"df-a345c703-2637-4db6-811c-7184ca098197\" class=\"colab-df-container\">\n",
              "    <div>\n",
              "<style scoped>\n",
              "    .dataframe tbody tr th:only-of-type {\n",
              "        vertical-align: middle;\n",
              "    }\n",
              "\n",
              "    .dataframe tbody tr th {\n",
              "        vertical-align: top;\n",
              "    }\n",
              "\n",
              "    .dataframe thead th {\n",
              "        text-align: right;\n",
              "    }\n",
              "</style>\n",
              "<table border=\"1\" class=\"dataframe\">\n",
              "  <thead>\n",
              "    <tr style=\"text-align: right;\">\n",
              "      <th>survived</th>\n",
              "      <th>0</th>\n",
              "      <th>1</th>\n",
              "    </tr>\n",
              "    <tr>\n",
              "      <th>sex</th>\n",
              "      <th></th>\n",
              "      <th></th>\n",
              "    </tr>\n",
              "  </thead>\n",
              "  <tbody>\n",
              "    <tr>\n",
              "      <th>female</th>\n",
              "      <td>81</td>\n",
              "      <td>233</td>\n",
              "    </tr>\n",
              "    <tr>\n",
              "      <th>male</th>\n",
              "      <td>468</td>\n",
              "      <td>109</td>\n",
              "    </tr>\n",
              "  </tbody>\n",
              "</table>\n",
              "</div>\n",
              "    <div class=\"colab-df-buttons\">\n",
              "\n",
              "  <div class=\"colab-df-container\">\n",
              "    <button class=\"colab-df-convert\" onclick=\"convertToInteractive('df-a345c703-2637-4db6-811c-7184ca098197')\"\n",
              "            title=\"Convert this dataframe to an interactive table.\"\n",
              "            style=\"display:none;\">\n",
              "\n",
              "  <svg xmlns=\"http://www.w3.org/2000/svg\" height=\"24px\" viewBox=\"0 -960 960 960\">\n",
              "    <path d=\"M120-120v-720h720v720H120Zm60-500h600v-160H180v160Zm220 220h160v-160H400v160Zm0 220h160v-160H400v160ZM180-400h160v-160H180v160Zm440 0h160v-160H620v160ZM180-180h160v-160H180v160Zm440 0h160v-160H620v160Z\"/>\n",
              "  </svg>\n",
              "    </button>\n",
              "\n",
              "  <style>\n",
              "    .colab-df-container {\n",
              "      display:flex;\n",
              "      gap: 12px;\n",
              "    }\n",
              "\n",
              "    .colab-df-convert {\n",
              "      background-color: #E8F0FE;\n",
              "      border: none;\n",
              "      border-radius: 50%;\n",
              "      cursor: pointer;\n",
              "      display: none;\n",
              "      fill: #1967D2;\n",
              "      height: 32px;\n",
              "      padding: 0 0 0 0;\n",
              "      width: 32px;\n",
              "    }\n",
              "\n",
              "    .colab-df-convert:hover {\n",
              "      background-color: #E2EBFA;\n",
              "      box-shadow: 0px 1px 2px rgba(60, 64, 67, 0.3), 0px 1px 3px 1px rgba(60, 64, 67, 0.15);\n",
              "      fill: #174EA6;\n",
              "    }\n",
              "\n",
              "    .colab-df-buttons div {\n",
              "      margin-bottom: 4px;\n",
              "    }\n",
              "\n",
              "    [theme=dark] .colab-df-convert {\n",
              "      background-color: #3B4455;\n",
              "      fill: #D2E3FC;\n",
              "    }\n",
              "\n",
              "    [theme=dark] .colab-df-convert:hover {\n",
              "      background-color: #434B5C;\n",
              "      box-shadow: 0px 1px 3px 1px rgba(0, 0, 0, 0.15);\n",
              "      filter: drop-shadow(0px 1px 2px rgba(0, 0, 0, 0.3));\n",
              "      fill: #FFFFFF;\n",
              "    }\n",
              "  </style>\n",
              "\n",
              "    <script>\n",
              "      const buttonEl =\n",
              "        document.querySelector('#df-a345c703-2637-4db6-811c-7184ca098197 button.colab-df-convert');\n",
              "      buttonEl.style.display =\n",
              "        google.colab.kernel.accessAllowed ? 'block' : 'none';\n",
              "\n",
              "      async function convertToInteractive(key) {\n",
              "        const element = document.querySelector('#df-a345c703-2637-4db6-811c-7184ca098197');\n",
              "        const dataTable =\n",
              "          await google.colab.kernel.invokeFunction('convertToInteractive',\n",
              "                                                    [key], {});\n",
              "        if (!dataTable) return;\n",
              "\n",
              "        const docLinkHtml = 'Like what you see? Visit the ' +\n",
              "          '<a target=\"_blank\" href=https://colab.research.google.com/notebooks/data_table.ipynb>data table notebook</a>'\n",
              "          + ' to learn more about interactive tables.';\n",
              "        element.innerHTML = '';\n",
              "        dataTable['output_type'] = 'display_data';\n",
              "        await google.colab.output.renderOutput(dataTable, element);\n",
              "        const docLink = document.createElement('div');\n",
              "        docLink.innerHTML = docLinkHtml;\n",
              "        element.appendChild(docLink);\n",
              "      }\n",
              "    </script>\n",
              "  </div>\n",
              "\n",
              "\n",
              "    <div id=\"df-64d0d9ec-e2df-4820-9f2f-f962dae46c61\">\n",
              "      <button class=\"colab-df-quickchart\" onclick=\"quickchart('df-64d0d9ec-e2df-4820-9f2f-f962dae46c61')\"\n",
              "                title=\"Suggest charts\"\n",
              "                style=\"display:none;\">\n",
              "\n",
              "<svg xmlns=\"http://www.w3.org/2000/svg\" height=\"24px\"viewBox=\"0 0 24 24\"\n",
              "     width=\"24px\">\n",
              "    <g>\n",
              "        <path d=\"M19 3H5c-1.1 0-2 .9-2 2v14c0 1.1.9 2 2 2h14c1.1 0 2-.9 2-2V5c0-1.1-.9-2-2-2zM9 17H7v-7h2v7zm4 0h-2V7h2v10zm4 0h-2v-4h2v4z\"/>\n",
              "    </g>\n",
              "</svg>\n",
              "      </button>\n",
              "\n",
              "<style>\n",
              "  .colab-df-quickchart {\n",
              "      --bg-color: #E8F0FE;\n",
              "      --fill-color: #1967D2;\n",
              "      --hover-bg-color: #E2EBFA;\n",
              "      --hover-fill-color: #174EA6;\n",
              "      --disabled-fill-color: #AAA;\n",
              "      --disabled-bg-color: #DDD;\n",
              "  }\n",
              "\n",
              "  [theme=dark] .colab-df-quickchart {\n",
              "      --bg-color: #3B4455;\n",
              "      --fill-color: #D2E3FC;\n",
              "      --hover-bg-color: #434B5C;\n",
              "      --hover-fill-color: #FFFFFF;\n",
              "      --disabled-bg-color: #3B4455;\n",
              "      --disabled-fill-color: #666;\n",
              "  }\n",
              "\n",
              "  .colab-df-quickchart {\n",
              "    background-color: var(--bg-color);\n",
              "    border: none;\n",
              "    border-radius: 50%;\n",
              "    cursor: pointer;\n",
              "    display: none;\n",
              "    fill: var(--fill-color);\n",
              "    height: 32px;\n",
              "    padding: 0;\n",
              "    width: 32px;\n",
              "  }\n",
              "\n",
              "  .colab-df-quickchart:hover {\n",
              "    background-color: var(--hover-bg-color);\n",
              "    box-shadow: 0 1px 2px rgba(60, 64, 67, 0.3), 0 1px 3px 1px rgba(60, 64, 67, 0.15);\n",
              "    fill: var(--button-hover-fill-color);\n",
              "  }\n",
              "\n",
              "  .colab-df-quickchart-complete:disabled,\n",
              "  .colab-df-quickchart-complete:disabled:hover {\n",
              "    background-color: var(--disabled-bg-color);\n",
              "    fill: var(--disabled-fill-color);\n",
              "    box-shadow: none;\n",
              "  }\n",
              "\n",
              "  .colab-df-spinner {\n",
              "    border: 2px solid var(--fill-color);\n",
              "    border-color: transparent;\n",
              "    border-bottom-color: var(--fill-color);\n",
              "    animation:\n",
              "      spin 1s steps(1) infinite;\n",
              "  }\n",
              "\n",
              "  @keyframes spin {\n",
              "    0% {\n",
              "      border-color: transparent;\n",
              "      border-bottom-color: var(--fill-color);\n",
              "      border-left-color: var(--fill-color);\n",
              "    }\n",
              "    20% {\n",
              "      border-color: transparent;\n",
              "      border-left-color: var(--fill-color);\n",
              "      border-top-color: var(--fill-color);\n",
              "    }\n",
              "    30% {\n",
              "      border-color: transparent;\n",
              "      border-left-color: var(--fill-color);\n",
              "      border-top-color: var(--fill-color);\n",
              "      border-right-color: var(--fill-color);\n",
              "    }\n",
              "    40% {\n",
              "      border-color: transparent;\n",
              "      border-right-color: var(--fill-color);\n",
              "      border-top-color: var(--fill-color);\n",
              "    }\n",
              "    60% {\n",
              "      border-color: transparent;\n",
              "      border-right-color: var(--fill-color);\n",
              "    }\n",
              "    80% {\n",
              "      border-color: transparent;\n",
              "      border-right-color: var(--fill-color);\n",
              "      border-bottom-color: var(--fill-color);\n",
              "    }\n",
              "    90% {\n",
              "      border-color: transparent;\n",
              "      border-bottom-color: var(--fill-color);\n",
              "    }\n",
              "  }\n",
              "</style>\n",
              "\n",
              "      <script>\n",
              "        async function quickchart(key) {\n",
              "          const quickchartButtonEl =\n",
              "            document.querySelector('#' + key + ' button');\n",
              "          quickchartButtonEl.disabled = true;  // To prevent multiple clicks.\n",
              "          quickchartButtonEl.classList.add('colab-df-spinner');\n",
              "          try {\n",
              "            const charts = await google.colab.kernel.invokeFunction(\n",
              "                'suggestCharts', [key], {});\n",
              "          } catch (error) {\n",
              "            console.error('Error during call to suggestCharts:', error);\n",
              "          }\n",
              "          quickchartButtonEl.classList.remove('colab-df-spinner');\n",
              "          quickchartButtonEl.classList.add('colab-df-quickchart-complete');\n",
              "        }\n",
              "        (() => {\n",
              "          let quickchartButtonEl =\n",
              "            document.querySelector('#df-64d0d9ec-e2df-4820-9f2f-f962dae46c61 button');\n",
              "          quickchartButtonEl.style.display =\n",
              "            google.colab.kernel.accessAllowed ? 'block' : 'none';\n",
              "        })();\n",
              "      </script>\n",
              "    </div>\n",
              "\n",
              "    </div>\n",
              "  </div>\n"
            ],
            "application/vnd.google.colaboratory.intrinsic+json": {
              "type": "dataframe",
              "summary": "{\n  \"name\": \"pd\",\n  \"rows\": 2,\n  \"fields\": [\n    {\n      \"column\": \"sex\",\n      \"properties\": {\n        \"dtype\": \"string\",\n        \"num_unique_values\": 2,\n        \"samples\": [\n          \"male\",\n          \"female\"\n        ],\n        \"semantic_type\": \"\",\n        \"description\": \"\"\n      }\n    },\n    {\n      \"column\": 0,\n      \"properties\": {\n        \"dtype\": \"number\",\n        \"std\": 273,\n        \"min\": 81,\n        \"max\": 468,\n        \"num_unique_values\": 2,\n        \"samples\": [\n          468,\n          81\n        ],\n        \"semantic_type\": \"\",\n        \"description\": \"\"\n      }\n    },\n    {\n      \"column\": 1,\n      \"properties\": {\n        \"dtype\": \"number\",\n        \"std\": 87,\n        \"min\": 109,\n        \"max\": 233,\n        \"num_unique_values\": 2,\n        \"samples\": [\n          109,\n          233\n        ],\n        \"semantic_type\": \"\",\n        \"description\": \"\"\n      }\n    }\n  ]\n}"
            }
          },
          "metadata": {},
          "execution_count": 73
        }
      ]
    },
    {
      "cell_type": "code",
      "source": [
        "#  - embarked vs class\n",
        "print(\"embarked vs class\")\n",
        "pd.crosstab(df['embarked'], df['class'])"
      ],
      "metadata": {
        "colab": {
          "base_uri": "https://localhost:8080/",
          "height": 192
        },
        "id": "ciMpFYTWjYC8",
        "outputId": "6027a114-4948-454f-a2d4-dd6602e5d92d"
      },
      "execution_count": 74,
      "outputs": [
        {
          "output_type": "stream",
          "name": "stdout",
          "text": [
            "embarked vs class\n"
          ]
        },
        {
          "output_type": "execute_result",
          "data": {
            "text/plain": [
              "class     First  Second  Third\n",
              "embarked                      \n",
              "C            85      17     66\n",
              "Q             2       3     72\n",
              "S           127     164    353"
            ],
            "text/html": [
              "\n",
              "  <div id=\"df-baeb8314-148d-453d-b9d4-4365be177b9b\" class=\"colab-df-container\">\n",
              "    <div>\n",
              "<style scoped>\n",
              "    .dataframe tbody tr th:only-of-type {\n",
              "        vertical-align: middle;\n",
              "    }\n",
              "\n",
              "    .dataframe tbody tr th {\n",
              "        vertical-align: top;\n",
              "    }\n",
              "\n",
              "    .dataframe thead th {\n",
              "        text-align: right;\n",
              "    }\n",
              "</style>\n",
              "<table border=\"1\" class=\"dataframe\">\n",
              "  <thead>\n",
              "    <tr style=\"text-align: right;\">\n",
              "      <th>class</th>\n",
              "      <th>First</th>\n",
              "      <th>Second</th>\n",
              "      <th>Third</th>\n",
              "    </tr>\n",
              "    <tr>\n",
              "      <th>embarked</th>\n",
              "      <th></th>\n",
              "      <th></th>\n",
              "      <th></th>\n",
              "    </tr>\n",
              "  </thead>\n",
              "  <tbody>\n",
              "    <tr>\n",
              "      <th>C</th>\n",
              "      <td>85</td>\n",
              "      <td>17</td>\n",
              "      <td>66</td>\n",
              "    </tr>\n",
              "    <tr>\n",
              "      <th>Q</th>\n",
              "      <td>2</td>\n",
              "      <td>3</td>\n",
              "      <td>72</td>\n",
              "    </tr>\n",
              "    <tr>\n",
              "      <th>S</th>\n",
              "      <td>127</td>\n",
              "      <td>164</td>\n",
              "      <td>353</td>\n",
              "    </tr>\n",
              "  </tbody>\n",
              "</table>\n",
              "</div>\n",
              "    <div class=\"colab-df-buttons\">\n",
              "\n",
              "  <div class=\"colab-df-container\">\n",
              "    <button class=\"colab-df-convert\" onclick=\"convertToInteractive('df-baeb8314-148d-453d-b9d4-4365be177b9b')\"\n",
              "            title=\"Convert this dataframe to an interactive table.\"\n",
              "            style=\"display:none;\">\n",
              "\n",
              "  <svg xmlns=\"http://www.w3.org/2000/svg\" height=\"24px\" viewBox=\"0 -960 960 960\">\n",
              "    <path d=\"M120-120v-720h720v720H120Zm60-500h600v-160H180v160Zm220 220h160v-160H400v160Zm0 220h160v-160H400v160ZM180-400h160v-160H180v160Zm440 0h160v-160H620v160ZM180-180h160v-160H180v160Zm440 0h160v-160H620v160Z\"/>\n",
              "  </svg>\n",
              "    </button>\n",
              "\n",
              "  <style>\n",
              "    .colab-df-container {\n",
              "      display:flex;\n",
              "      gap: 12px;\n",
              "    }\n",
              "\n",
              "    .colab-df-convert {\n",
              "      background-color: #E8F0FE;\n",
              "      border: none;\n",
              "      border-radius: 50%;\n",
              "      cursor: pointer;\n",
              "      display: none;\n",
              "      fill: #1967D2;\n",
              "      height: 32px;\n",
              "      padding: 0 0 0 0;\n",
              "      width: 32px;\n",
              "    }\n",
              "\n",
              "    .colab-df-convert:hover {\n",
              "      background-color: #E2EBFA;\n",
              "      box-shadow: 0px 1px 2px rgba(60, 64, 67, 0.3), 0px 1px 3px 1px rgba(60, 64, 67, 0.15);\n",
              "      fill: #174EA6;\n",
              "    }\n",
              "\n",
              "    .colab-df-buttons div {\n",
              "      margin-bottom: 4px;\n",
              "    }\n",
              "\n",
              "    [theme=dark] .colab-df-convert {\n",
              "      background-color: #3B4455;\n",
              "      fill: #D2E3FC;\n",
              "    }\n",
              "\n",
              "    [theme=dark] .colab-df-convert:hover {\n",
              "      background-color: #434B5C;\n",
              "      box-shadow: 0px 1px 3px 1px rgba(0, 0, 0, 0.15);\n",
              "      filter: drop-shadow(0px 1px 2px rgba(0, 0, 0, 0.3));\n",
              "      fill: #FFFFFF;\n",
              "    }\n",
              "  </style>\n",
              "\n",
              "    <script>\n",
              "      const buttonEl =\n",
              "        document.querySelector('#df-baeb8314-148d-453d-b9d4-4365be177b9b button.colab-df-convert');\n",
              "      buttonEl.style.display =\n",
              "        google.colab.kernel.accessAllowed ? 'block' : 'none';\n",
              "\n",
              "      async function convertToInteractive(key) {\n",
              "        const element = document.querySelector('#df-baeb8314-148d-453d-b9d4-4365be177b9b');\n",
              "        const dataTable =\n",
              "          await google.colab.kernel.invokeFunction('convertToInteractive',\n",
              "                                                    [key], {});\n",
              "        if (!dataTable) return;\n",
              "\n",
              "        const docLinkHtml = 'Like what you see? Visit the ' +\n",
              "          '<a target=\"_blank\" href=https://colab.research.google.com/notebooks/data_table.ipynb>data table notebook</a>'\n",
              "          + ' to learn more about interactive tables.';\n",
              "        element.innerHTML = '';\n",
              "        dataTable['output_type'] = 'display_data';\n",
              "        await google.colab.output.renderOutput(dataTable, element);\n",
              "        const docLink = document.createElement('div');\n",
              "        docLink.innerHTML = docLinkHtml;\n",
              "        element.appendChild(docLink);\n",
              "      }\n",
              "    </script>\n",
              "  </div>\n",
              "\n",
              "\n",
              "    <div id=\"df-113f6de9-1c6a-48e5-9d95-070a035550f8\">\n",
              "      <button class=\"colab-df-quickchart\" onclick=\"quickchart('df-113f6de9-1c6a-48e5-9d95-070a035550f8')\"\n",
              "                title=\"Suggest charts\"\n",
              "                style=\"display:none;\">\n",
              "\n",
              "<svg xmlns=\"http://www.w3.org/2000/svg\" height=\"24px\"viewBox=\"0 0 24 24\"\n",
              "     width=\"24px\">\n",
              "    <g>\n",
              "        <path d=\"M19 3H5c-1.1 0-2 .9-2 2v14c0 1.1.9 2 2 2h14c1.1 0 2-.9 2-2V5c0-1.1-.9-2-2-2zM9 17H7v-7h2v7zm4 0h-2V7h2v10zm4 0h-2v-4h2v4z\"/>\n",
              "    </g>\n",
              "</svg>\n",
              "      </button>\n",
              "\n",
              "<style>\n",
              "  .colab-df-quickchart {\n",
              "      --bg-color: #E8F0FE;\n",
              "      --fill-color: #1967D2;\n",
              "      --hover-bg-color: #E2EBFA;\n",
              "      --hover-fill-color: #174EA6;\n",
              "      --disabled-fill-color: #AAA;\n",
              "      --disabled-bg-color: #DDD;\n",
              "  }\n",
              "\n",
              "  [theme=dark] .colab-df-quickchart {\n",
              "      --bg-color: #3B4455;\n",
              "      --fill-color: #D2E3FC;\n",
              "      --hover-bg-color: #434B5C;\n",
              "      --hover-fill-color: #FFFFFF;\n",
              "      --disabled-bg-color: #3B4455;\n",
              "      --disabled-fill-color: #666;\n",
              "  }\n",
              "\n",
              "  .colab-df-quickchart {\n",
              "    background-color: var(--bg-color);\n",
              "    border: none;\n",
              "    border-radius: 50%;\n",
              "    cursor: pointer;\n",
              "    display: none;\n",
              "    fill: var(--fill-color);\n",
              "    height: 32px;\n",
              "    padding: 0;\n",
              "    width: 32px;\n",
              "  }\n",
              "\n",
              "  .colab-df-quickchart:hover {\n",
              "    background-color: var(--hover-bg-color);\n",
              "    box-shadow: 0 1px 2px rgba(60, 64, 67, 0.3), 0 1px 3px 1px rgba(60, 64, 67, 0.15);\n",
              "    fill: var(--button-hover-fill-color);\n",
              "  }\n",
              "\n",
              "  .colab-df-quickchart-complete:disabled,\n",
              "  .colab-df-quickchart-complete:disabled:hover {\n",
              "    background-color: var(--disabled-bg-color);\n",
              "    fill: var(--disabled-fill-color);\n",
              "    box-shadow: none;\n",
              "  }\n",
              "\n",
              "  .colab-df-spinner {\n",
              "    border: 2px solid var(--fill-color);\n",
              "    border-color: transparent;\n",
              "    border-bottom-color: var(--fill-color);\n",
              "    animation:\n",
              "      spin 1s steps(1) infinite;\n",
              "  }\n",
              "\n",
              "  @keyframes spin {\n",
              "    0% {\n",
              "      border-color: transparent;\n",
              "      border-bottom-color: var(--fill-color);\n",
              "      border-left-color: var(--fill-color);\n",
              "    }\n",
              "    20% {\n",
              "      border-color: transparent;\n",
              "      border-left-color: var(--fill-color);\n",
              "      border-top-color: var(--fill-color);\n",
              "    }\n",
              "    30% {\n",
              "      border-color: transparent;\n",
              "      border-left-color: var(--fill-color);\n",
              "      border-top-color: var(--fill-color);\n",
              "      border-right-color: var(--fill-color);\n",
              "    }\n",
              "    40% {\n",
              "      border-color: transparent;\n",
              "      border-right-color: var(--fill-color);\n",
              "      border-top-color: var(--fill-color);\n",
              "    }\n",
              "    60% {\n",
              "      border-color: transparent;\n",
              "      border-right-color: var(--fill-color);\n",
              "    }\n",
              "    80% {\n",
              "      border-color: transparent;\n",
              "      border-right-color: var(--fill-color);\n",
              "      border-bottom-color: var(--fill-color);\n",
              "    }\n",
              "    90% {\n",
              "      border-color: transparent;\n",
              "      border-bottom-color: var(--fill-color);\n",
              "    }\n",
              "  }\n",
              "</style>\n",
              "\n",
              "      <script>\n",
              "        async function quickchart(key) {\n",
              "          const quickchartButtonEl =\n",
              "            document.querySelector('#' + key + ' button');\n",
              "          quickchartButtonEl.disabled = true;  // To prevent multiple clicks.\n",
              "          quickchartButtonEl.classList.add('colab-df-spinner');\n",
              "          try {\n",
              "            const charts = await google.colab.kernel.invokeFunction(\n",
              "                'suggestCharts', [key], {});\n",
              "          } catch (error) {\n",
              "            console.error('Error during call to suggestCharts:', error);\n",
              "          }\n",
              "          quickchartButtonEl.classList.remove('colab-df-spinner');\n",
              "          quickchartButtonEl.classList.add('colab-df-quickchart-complete');\n",
              "        }\n",
              "        (() => {\n",
              "          let quickchartButtonEl =\n",
              "            document.querySelector('#df-113f6de9-1c6a-48e5-9d95-070a035550f8 button');\n",
              "          quickchartButtonEl.style.display =\n",
              "            google.colab.kernel.accessAllowed ? 'block' : 'none';\n",
              "        })();\n",
              "      </script>\n",
              "    </div>\n",
              "\n",
              "    </div>\n",
              "  </div>\n"
            ],
            "application/vnd.google.colaboratory.intrinsic+json": {
              "type": "dataframe",
              "summary": "{\n  \"name\": \"pd\",\n  \"rows\": 3,\n  \"fields\": [\n    {\n      \"column\": \"embarked\",\n      \"properties\": {\n        \"dtype\": \"string\",\n        \"num_unique_values\": 3,\n        \"samples\": [\n          \"C\",\n          \"Q\",\n          \"S\"\n        ],\n        \"semantic_type\": \"\",\n        \"description\": \"\"\n      }\n    },\n    {\n      \"column\": \"First\",\n      \"properties\": {\n        \"dtype\": \"number\",\n        \"std\": 63,\n        \"min\": 2,\n        \"max\": 127,\n        \"num_unique_values\": 3,\n        \"samples\": [\n          85,\n          2,\n          127\n        ],\n        \"semantic_type\": \"\",\n        \"description\": \"\"\n      }\n    },\n    {\n      \"column\": \"Second\",\n      \"properties\": {\n        \"dtype\": \"number\",\n        \"std\": 89,\n        \"min\": 3,\n        \"max\": 164,\n        \"num_unique_values\": 3,\n        \"samples\": [\n          17,\n          3,\n          164\n        ],\n        \"semantic_type\": \"\",\n        \"description\": \"\"\n      }\n    },\n    {\n      \"column\": \"Third\",\n      \"properties\": {\n        \"dtype\": \"number\",\n        \"std\": 163,\n        \"min\": 66,\n        \"max\": 353,\n        \"num_unique_values\": 3,\n        \"samples\": [\n          66,\n          72,\n          353\n        ],\n        \"semantic_type\": \"\",\n        \"description\": \"\"\n      }\n    }\n  ]\n}"
            }
          },
          "metadata": {},
          "execution_count": 74
        }
      ]
    },
    {
      "cell_type": "markdown",
      "source": [
        "## Exercise2: Feature Engineering"
      ],
      "metadata": {
        "id": "S0uDgEXRaDdW"
      }
    },
    {
      "cell_type": "markdown",
      "source": [
        "#### Step 1: Missing Value Handling\n",
        "- Impute:\n",
        "  - age with median\n",
        "  - embarked with mode\n",
        "  - Drop rows where deck is null"
      ],
      "metadata": {
        "id": "Jk4no5tEaKgt"
      }
    },
    {
      "cell_type": "code",
      "source": [
        "# age with median\n",
        "df['age'].fillna(df['age'].median(), inplace=True)\n",
        "# print(df['age'])\n",
        "# print(df['age'].median())"
      ],
      "metadata": {
        "colab": {
          "base_uri": "https://localhost:8080/"
        },
        "id": "bnaxqqlZaH31",
        "outputId": "641c2485-ca6c-4e68-e7cc-864ee057d9ad"
      },
      "execution_count": 75,
      "outputs": [
        {
          "output_type": "stream",
          "name": "stderr",
          "text": [
            "/tmp/ipython-input-3938190663.py:2: FutureWarning: A value is trying to be set on a copy of a DataFrame or Series through chained assignment using an inplace method.\n",
            "The behavior will change in pandas 3.0. This inplace method will never work because the intermediate object on which we are setting values always behaves as a copy.\n",
            "\n",
            "For example, when doing 'df[col].method(value, inplace=True)', try using 'df.method({col: value}, inplace=True)' or df[col] = df[col].method(value) instead, to perform the operation inplace on the original object.\n",
            "\n",
            "\n",
            "  df['age'].fillna(df['age'].median(), inplace=True)\n"
          ]
        }
      ]
    },
    {
      "cell_type": "code",
      "source": [
        "# embarked with mode\n",
        "df['embarked'].fillna(df['embarked'].mode()[0], inplace=True)\n",
        "# print(df['embarked'])\n",
        "# print(df['embarked'].mode()[0])"
      ],
      "metadata": {
        "colab": {
          "base_uri": "https://localhost:8080/"
        },
        "id": "5HfgtRx-a0mO",
        "outputId": "2ad67ed1-bbfa-4367-9e50-ab9caa44b448"
      },
      "execution_count": 76,
      "outputs": [
        {
          "output_type": "stream",
          "name": "stderr",
          "text": [
            "/tmp/ipython-input-3595710167.py:2: FutureWarning: A value is trying to be set on a copy of a DataFrame or Series through chained assignment using an inplace method.\n",
            "The behavior will change in pandas 3.0. This inplace method will never work because the intermediate object on which we are setting values always behaves as a copy.\n",
            "\n",
            "For example, when doing 'df[col].method(value, inplace=True)', try using 'df.method({col: value}, inplace=True)' or df[col] = df[col].method(value) instead, to perform the operation inplace on the original object.\n",
            "\n",
            "\n",
            "  df['embarked'].fillna(df['embarked'].mode()[0], inplace=True)\n"
          ]
        }
      ]
    },
    {
      "cell_type": "code",
      "source": [
        "# Drop rows where deck is null\n",
        "df.dropna(subset=['deck'], inplace=True)\n",
        "print(df.isnull().sum())"
      ],
      "metadata": {
        "colab": {
          "base_uri": "https://localhost:8080/"
        },
        "id": "7n3QNp1wbSVJ",
        "outputId": "bb266d74-3176-468c-996d-0a8a051b60dd"
      },
      "execution_count": 77,
      "outputs": [
        {
          "output_type": "stream",
          "name": "stdout",
          "text": [
            "survived       0\n",
            "pclass         0\n",
            "sex            0\n",
            "age            0\n",
            "sibsp          0\n",
            "parch          0\n",
            "fare           0\n",
            "embarked       0\n",
            "class          0\n",
            "who            0\n",
            "adult_male     0\n",
            "deck           0\n",
            "embark_town    2\n",
            "alive          0\n",
            "alone          0\n",
            "dtype: int64\n"
          ]
        }
      ]
    },
    {
      "cell_type": "markdown",
      "source": [
        "#### Step 2: Outlier Detection and Handling\n",
        "- Plot boxplot and detect outliers in fare\n",
        "- Cap outliers using IQR method"
      ],
      "metadata": {
        "id": "NMlXnBgSb60V"
      }
    },
    {
      "cell_type": "code",
      "source": [
        "# Plot boxplot and detect outliers in fare\n",
        "sns.boxplot(y=df['fare'])"
      ],
      "metadata": {
        "colab": {
          "base_uri": "https://localhost:8080/",
          "height": 428
        },
        "id": "XizY1O2WcDut",
        "outputId": "ac4d5f4c-4e6f-4535-e8d2-a70463993e4c"
      },
      "execution_count": 78,
      "outputs": [
        {
          "output_type": "execute_result",
          "data": {
            "text/plain": [
              "<Axes: ylabel='fare'>"
            ]
          },
          "metadata": {},
          "execution_count": 78
        },
        {
          "output_type": "display_data",
          "data": {
            "text/plain": [
              "<Figure size 640x480 with 1 Axes>"
            ],
            "image/png": "[encoded data removed]"
          },
          "metadata": {}
        }
      ]
    },
    {
      "cell_type": "code",
      "source": [
        "# Cap outliers using IQR method\n",
        "df = sns.load_dataset('titanic')\n",
        "Q1 = df['fare'].quantile(0.25)\n",
        "Q3 = df['fare'].quantile(0.75)\n",
        "IQR = Q3 - Q1\n",
        "lower = Q1 - 1.5 * IQR\n",
        "upper = Q3 + 1.5 * IQR\n",
        "print(\"Values:\",\"\\n Q1: \", Q1,\"\\n Q3: \", Q3,\"\\n IQR: \", IQR,\"\\n lower: \", lower,\"\\n upper: \", upper)\n",
        "# df.loc[df['fare'] < lower, 'fare'] = lower\n",
        "# df.loc[df['fare'] > upper, 'fare'] = upper"
      ],
      "metadata": {
        "colab": {
          "base_uri": "https://localhost:8080/"
        },
        "id": "d5hgBh0Icg4z",
        "outputId": "ca2ce630-c714-4c65-f031-277cc3103db6"
      },
      "execution_count": 79,
      "outputs": [
        {
          "output_type": "stream",
          "name": "stdout",
          "text": [
            "Values: \n",
            " Q1:  7.9104 \n",
            " Q3:  31.0 \n",
            " IQR:  23.0896 \n",
            " lower:  -26.724 \n",
            " upper:  65.6344\n"
          ]
        }
      ]
    },
    {
      "cell_type": "code",
      "source": [
        "# print outliers\n",
        "outliers = df[(df[\"fare\"] < lower) | (df[\"fare\"] > upper)]\n",
        "# print(outliers)"
      ],
      "metadata": {
        "id": "KcGlqqW9dtVX"
      },
      "execution_count": 80,
      "outputs": []
    },
    {
      "cell_type": "code",
      "source": [
        "df['fare'] = df['fare'].apply(\n",
        "    lambda X: upper if X > upper\n",
        "    else lower if X < lower\n",
        "    else X\n",
        ")"
      ],
      "metadata": {
        "id": "r0YRWzvbe1Wy"
      },
      "execution_count": 81,
      "outputs": []
    },
    {
      "cell_type": "code",
      "source": [
        "sns.boxplot(y=df['fare'])"
      ],
      "metadata": {
        "colab": {
          "base_uri": "https://localhost:8080/",
          "height": 428
        },
        "id": "RhD5yGKjfTeT",
        "outputId": "a08783c7-64a8-40e5-b638-60cdc345be18"
      },
      "execution_count": 82,
      "outputs": [
        {
          "output_type": "execute_result",
          "data": {
            "text/plain": [
              "<Axes: ylabel='fare'>"
            ]
          },
          "metadata": {},
          "execution_count": 82
        },
        {
          "output_type": "display_data",
          "data": {
            "text/plain": [
              "<Figure size 640x480 with 1 Axes>"
            ],
            "image/png": "[encoded data removed]"
          },
          "metadata": {}
        }
      ]
    },
    {
      "cell_type": "markdown",
      "source": [
        "#### Step 3: Normalization and Standardization\n",
        "- Apply:\n",
        "  - Min-Max Normalization on fare\n",
        "  - StandardScaler on age (use sklearn)"
      ],
      "metadata": {
        "id": "lbuZCtCyfnYH"
      }
    },
    {
      "cell_type": "code",
      "source": [
        "# Min-Max Normalization on fare\n",
        "from sklearn.preprocessing import MinMaxScaler\n",
        "min_max_scaler = MinMaxScaler()\n",
        "# print(\"Print scaler fit: \",scaler.fit(df[['fare']].head(5)))\n",
        "df['Norm_fare'] = min_max_scaler.fit_transform(df[['fare']])\n",
        "print(df[['fare','Norm_fare']].head(5))"
      ],
      "metadata": {
        "colab": {
          "base_uri": "https://localhost:8080/"
        },
        "id": "5ZWrXXoxftiO",
        "outputId": "326c8fce-fea3-4241-9385-942897c93863"
      },
      "execution_count": 83,
      "outputs": [
        {
          "output_type": "stream",
          "name": "stdout",
          "text": [
            "      fare  Norm_fare\n",
            "0   7.2500   0.110460\n",
            "1  65.6344   1.000000\n",
            "2   7.9250   0.120745\n",
            "3  53.1000   0.809027\n",
            "4   8.0500   0.122649\n"
          ]
        }
      ]
    },
    {
      "cell_type": "code",
      "source": [
        "# StandardScaler on age (use sklearn)\n",
        "from sklearn.preprocessing import StandardScaler\n",
        "std_scaler = StandardScaler()\n",
        "df['Std_age'] = std_scaler.fit_transform(df[['age']])\n",
        "print(df[['age','Std_age']].head(5))"
      ],
      "metadata": {
        "colab": {
          "base_uri": "https://localhost:8080/"
        },
        "id": "up1x-CUoh6WG",
        "outputId": "d36a97df-efd0-4469-9824-115fea996637"
      },
      "execution_count": 84,
      "outputs": [
        {
          "output_type": "stream",
          "name": "stdout",
          "text": [
            "    age   Std_age\n",
            "0  22.0 -0.530377\n",
            "1  38.0  0.571831\n",
            "2  26.0 -0.254825\n",
            "3  35.0  0.365167\n",
            "4  35.0  0.365167\n"
          ]
        }
      ]
    },
    {
      "cell_type": "markdown",
      "source": [
        "#### Step 4: Encoding Categorical Variables\n",
        "Perform the following encodings:\n",
        "- sex: Label Encoding\n",
        "- embarked: One-Hot Encoding\n",
        "- class: Frequency Encoding\n",
        "- who: Target Encoding (target: survived)\n",
        "- deck: Binary Encoding"
      ],
      "metadata": {
        "id": "8ZXlvweZisWL"
      }
    },
    {
      "cell_type": "code",
      "source": [
        "# sex: Label Encoding\n",
        "from sklearn.preprocessing import LabelEncoder\n",
        "le = LabelEncoder()\n",
        "df['le_sex'] = le.fit_transform(df['sex'])\n",
        "print(df[['sex','le_sex']].head(5))"
      ],
      "metadata": {
        "colab": {
          "base_uri": "https://localhost:8080/"
        },
        "id": "WY7997l2i2K9",
        "outputId": "f9765620-a908-4118-dfba-dbf8c83991e8"
      },
      "execution_count": 85,
      "outputs": [
        {
          "output_type": "stream",
          "name": "stdout",
          "text": [
            "      sex  le_sex\n",
            "0    male       1\n",
            "1  female       0\n",
            "2  female       0\n",
            "3  female       0\n",
            "4    male       1\n"
          ]
        }
      ]
    },
    {
      "cell_type": "code",
      "source": [
        "# embarked: One-Hot Encoding\n",
        "dummydata = pd.get_dummies(df, columns=['embarked'])\n",
        "print(dummydata[['embarked_C','embarked_Q','embarked_S']].head(5))"
      ],
      "metadata": {
        "colab": {
          "base_uri": "https://localhost:8080/"
        },
        "id": "xTIXpsl1jcy4",
        "outputId": "19b81908-5963-49af-8cbe-0f424b70eb3a"
      },
      "execution_count": 86,
      "outputs": [
        {
          "output_type": "stream",
          "name": "stdout",
          "text": [
            "   embarked_C  embarked_Q  embarked_S\n",
            "0       False       False        True\n",
            "1        True       False       False\n",
            "2       False       False        True\n",
            "3       False       False        True\n",
            "4       False       False        True\n"
          ]
        }
      ]
    },
    {
      "cell_type": "code",
      "source": [
        "# class: Frequency Encoding\n",
        "freq = df['class'].value_counts()\n",
        "df['freq_class'] = df['class'].map(freq)\n",
        "print(df[['class','freq_class']].head(5))"
      ],
      "metadata": {
        "id": "iv9ibz77l7pq",
        "outputId": "aef5ca15-f847-4eef-eed1-b9b6f48343e9",
        "colab": {
          "base_uri": "https://localhost:8080/"
        }
      },
      "execution_count": 87,
      "outputs": [
        {
          "output_type": "stream",
          "name": "stdout",
          "text": [
            "   class freq_class\n",
            "0  Third        491\n",
            "1  First        216\n",
            "2  Third        491\n",
            "3  First        216\n",
            "4  Third        491\n"
          ]
        }
      ]
    },
    {
      "cell_type": "code",
      "source": [
        "# who: Target Encoding (target = survived)\n",
        "target_mean = df.groupby('who')['survived'].mean()\n",
        "df['target_who'] = df['who'].map(target_mean)\n",
        "print(df[['who', 'target_who']].head(5))\n"
      ],
      "metadata": {
        "colab": {
          "base_uri": "https://localhost:8080/"
        },
        "id": "Vg-rKgHK4T-X",
        "outputId": "8576f608-9b03-4c85-e136-11439bb89c29"
      },
      "execution_count": 88,
      "outputs": [
        {
          "output_type": "stream",
          "name": "stdout",
          "text": [
            "     who  target_who\n",
            "0    man    0.163873\n",
            "1  woman    0.756458\n",
            "2  woman    0.756458\n",
            "3  woman    0.756458\n",
            "4    man    0.163873\n"
          ]
        }
      ]
    },
    {
      "cell_type": "code",
      "source": [
        "# deck: Binary Encoding\n",
        "!pip install category_encoders\n",
        "import category_encoders as ce\n",
        "\n",
        "binary_encoder = ce.BinaryEncoder(cols=['deck'])\n",
        "df = binary_encoder.fit_transform(df)\n",
        "print(df.filter(like='deck').head(5))\n",
        "\n"
      ],
      "metadata": {
        "colab": {
          "base_uri": "https://localhost:8080/"
        },
        "id": "77HmCB0i4veo",
        "outputId": "3a6f5617-2f0f-4909-a445-20e981539d42"
      },
      "execution_count": 89,
      "outputs": [
        {
          "output_type": "stream",
          "name": "stdout",
          "text": [
            "Requirement already satisfied: category_encoders in /usr/local/lib/python3.12/dist-packages (2.8.1)\n",
            "Requirement already satisfied: numpy>=1.14.0 in /usr/local/lib/python3.12/dist-packages (from category_encoders) (2.0.2)\n",
            "Requirement already satisfied: pandas>=1.0.5 in /usr/local/lib/python3.12/dist-packages (from category_encoders) (2.2.2)\n",
            "Requirement already satisfied: patsy>=0.5.1 in /usr/local/lib/python3.12/dist-packages (from category_encoders) (1.0.1)\n",
            "Requirement already satisfied: scikit-learn>=1.6.0 in /usr/local/lib/python3.12/dist-packages (from category_encoders) (1.6.1)\n",
            "Requirement already satisfied: scipy>=1.0.0 in /usr/local/lib/python3.12/dist-packages (from category_encoders) (1.16.1)\n",
            "Requirement already satisfied: statsmodels>=0.9.0 in /usr/local/lib/python3.12/dist-packages (from category_encoders) (0.14.5)\n",
            "Requirement already satisfied: python-dateutil>=2.8.2 in /usr/local/lib/python3.12/dist-packages (from pandas>=1.0.5->category_encoders) (2.9.0.post0)\n",
            "Requirement already satisfied: pytz>=2020.1 in /usr/local/lib/python3.12/dist-packages (from pandas>=1.0.5->category_encoders) (2025.2)\n",
            "Requirement already satisfied: tzdata>=2022.7 in /usr/local/lib/python3.12/dist-packages (from pandas>=1.0.5->category_encoders) (2025.2)\n",
            "Requirement already satisfied: joblib>=1.2.0 in /usr/local/lib/python3.12/dist-packages (from scikit-learn>=1.6.0->category_encoders) (1.5.1)\n",
            "Requirement already satisfied: threadpoolctl>=3.1.0 in /usr/local/lib/python3.12/dist-packages (from scikit-learn>=1.6.0->category_encoders) (3.6.0)\n",
            "Requirement already satisfied: packaging>=21.3 in /usr/local/lib/python3.12/dist-packages (from statsmodels>=0.9.0->category_encoders) (25.0)\n",
            "Requirement already satisfied: six>=1.5 in /usr/local/lib/python3.12/dist-packages (from python-dateutil>=2.8.2->pandas>=1.0.5->category_encoders) (1.17.0)\n",
            "   deck_0  deck_1  deck_2  deck_3\n",
            "0       1       0       0       0\n",
            "1       0       0       0       1\n",
            "2       1       0       0       0\n",
            "3       0       0       0       1\n",
            "4       1       0       0       0\n"
          ]
        }
      ]
    },
    {
      "cell_type": "markdown",
      "source": [
        "## Exercise3: Feature Selection"
      ],
      "metadata": {
        "id": "VHTubC9z5X9i"
      }
    },
    {
      "cell_type": "markdown",
      "source": [
        "#### Target variable: survived\n",
        "#### Step 1: Pearson Correlation\n",
        "- Compute correlation among: age, fare, parch, sibsp\n",
        "- Drop one of any pair with correlation > 0.9"
      ],
      "metadata": {
        "id": "N54ked-f6mmf"
      }
    },
    {
      "cell_type": "code",
      "source": [
        "# Step 1: Pearson Correlation\n",
        "num_features = ['age', 'fare', 'parch', 'sibsp']\n",
        "corr_matrix = df[num_features].corr()\n",
        "\n",
        "print(\"Correlation Matrix:\\n\", corr_matrix)\n",
        "\n",
        "# Drop one feature if correlation > 0.9\n",
        "to_drop = set()\n",
        "for i in range(len(num_features)):\n",
        "    for j in range(i+1, len(num_features)):\n",
        "        if abs(corr_matrix.iloc[i, j]) > 0.9:\n",
        "            to_drop.add(num_features[j])\n",
        "\n",
        "print(\"Highly correlated features to drop:\", to_drop)\n"
      ],
      "metadata": {
        "colab": {
          "base_uri": "https://localhost:8080/"
        },
        "id": "joXsVmrF5a26",
        "outputId": "4e7c51f6-fe4d-4e12-985e-94b07fa40885"
      },
      "execution_count": 90,
      "outputs": [
        {
          "output_type": "stream",
          "name": "stdout",
          "text": [
            "Correlation Matrix:\n",
            "             age      fare     parch     sibsp\n",
            "age    1.000000  0.151920 -0.189119 -0.308247\n",
            "fare   0.151920  1.000000  0.292616  0.332021\n",
            "parch -0.189119  0.292616  1.000000  0.414838\n",
            "sibsp -0.308247  0.332021  0.414838  1.000000\n",
            "Highly correlated features to drop: set()\n"
          ]
        }
      ]
    },
    {
      "cell_type": "markdown",
      "source": [
        "#### Step 2: ANOVA (f_classif)\n",
        "- Test: sex, embarked, class, who vs survived\n"
      ],
      "metadata": {
        "id": "wwqgC0ZR6tkO"
      }
    },
    {
      "cell_type": "code",
      "source": [
        "from sklearn.feature_selection import f_classif\n",
        "\n",
        "cat_features = ['sex', 'embarked', 'class', 'who']\n",
        "X_cat = pd.get_dummies(df[cat_features], drop_first=True)\n",
        "y = df['survived']\n",
        "\n",
        "f_values, p_values = f_classif(X_cat, y)\n",
        "\n",
        "anova_results = pd.DataFrame({\"Feature\": X_cat.columns,\n",
        "                              \"F-value\": f_values,\n",
        "                              \"p-value\": p_values})\n",
        "print(\"\\nANOVA results:\\n\", anova_results)\n"
      ],
      "metadata": {
        "colab": {
          "base_uri": "https://localhost:8080/"
        },
        "id": "HCA-LhSL6tQV",
        "outputId": "9e27263b-8da8-4bcc-e1f9-b73d254e1e8c"
      },
      "execution_count": 91,
      "outputs": [
        {
          "output_type": "stream",
          "name": "stdout",
          "text": [
            "\n",
            "ANOVA results:\n",
            "         Feature     F-value       p-value\n",
            "0      sex_male  372.405746  1.406055e-69\n",
            "1    embarked_Q    0.011844  9.133627e-01\n",
            "2    embarked_S   22.075464  3.036118e-06\n",
            "3  class_Second    7.814795  5.293684e-03\n",
            "4   class_Third  103.057582  5.510325e-23\n",
            "5       who_man  400.037628  8.998056e-74\n",
            "6     who_woman  306.864785  3.009422e-59\n"
          ]
        }
      ]
    },
    {
      "cell_type": "markdown",
      "source": [
        "#### Step 3: Chi-Square Test\n",
        "- Apply on: sex, embarked, class vs survived"
      ],
      "metadata": {
        "id": "D8vFaqme60r-"
      }
    },
    {
      "cell_type": "code",
      "source": [
        "from sklearn.feature_selection import chi2\n",
        "\n",
        "chi_features = ['sex', 'embarked', 'class']\n",
        "X_chi = pd.get_dummies(df[chi_features], drop_first=True)\n",
        "y = df['survived']\n",
        "\n",
        "chi2_stats, chi2_p = chi2(X_chi, y)\n",
        "\n",
        "chi2_results = pd.DataFrame({\"Feature\": X_chi.columns,\n",
        "                             \"Chi2\": chi2_stats,\n",
        "                             \"p-value\": chi2_p})\n",
        "print(\"\\nChi-Square results:\\n\", chi2_results)\n"
      ],
      "metadata": {
        "colab": {
          "base_uri": "https://localhost:8080/"
        },
        "id": "cmpPkBo_64NP",
        "outputId": "dec5cfb0-99f6-40b8-92f1-d9cefe878651"
      },
      "execution_count": 92,
      "outputs": [
        {
          "output_type": "stream",
          "name": "stdout",
          "text": [
            "\n",
            "Chi-Square results:\n",
            "         Feature       Chi2       p-value\n",
            "0      sex_male  92.702447  6.077838e-22\n",
            "1    embarked_Q   0.010847  9.170520e-01\n",
            "2    embarked_S   5.984840  1.442935e-02\n",
            "3  class_Second   6.160767  1.306146e-02\n",
            "4   class_Third  41.553071  1.147141e-10\n"
          ]
        }
      ]
    },
    {
      "cell_type": "markdown",
      "source": [
        "#### Step 4: SelectKBest\n",
        "- Use SelectKBest with chi2 and f_classif\n",
        "- Select top 5 features for predicting survived"
      ],
      "metadata": {
        "id": "8RDvaEwf66So"
      }
    },
    {
      "cell_type": "code",
      "source": [
        "from sklearn.feature_selection import SelectKBest, f_classif, chi2\n",
        "from sklearn.impute import SimpleImputer\n",
        "\n",
        "# Separate numerical & categorical features\n",
        "num_features = ['age', 'fare', 'parch', 'sibsp']\n",
        "X_num = df[num_features]\n",
        "X_cat = pd.get_dummies(df[['sex','embarked','class','who']], drop_first=True).astype(int)\n",
        "\n",
        "# Handle missing values\n",
        "imputer_num = SimpleImputer(strategy='mean')\n",
        "\n",
        "X_num = pd.DataFrame(imputer_num.fit_transform(X_num), columns=num_features)\n",
        "# (no need to impute X_cat now, as dummies are 0/1 integers without NaNs)\n",
        "\n",
        "# Final dataset\n",
        "X = pd.concat([X_num, X_cat], axis=1)\n",
        "y = df['survived']\n",
        "\n",
        "# --- SelectKBest with f_classif ---\n",
        "selector_f = SelectKBest(score_func=f_classif, k=5)\n",
        "X_new_f = selector_f.fit_transform(X, y)\n",
        "print(\"\\nTop 5 features by ANOVA f_classif:\\n\", X.columns[selector_f.get_support()].tolist())\n",
        "\n",
        "# --- SelectKBest with chi2 ---\n",
        "selector_chi = SelectKBest(score_func=chi2, k=5)\n",
        "X_new_chi = selector_chi.fit_transform(abs(X), y)  # chi2 needs non-negative values\n",
        "print(\"\\nTop 5 features by Chi-Square:\\n\", X.columns[selector_chi.get_support()].tolist())\n"
      ],
      "metadata": {
        "colab": {
          "base_uri": "https://localhost:8080/"
        },
        "id": "WBugsHGV69vf",
        "outputId": "2f4c3d8c-67f5-46ee-fcef-308a45101c2b"
      },
      "execution_count": 95,
      "outputs": [
        {
          "output_type": "stream",
          "name": "stdout",
          "text": [
            "\n",
            "Top 5 features by ANOVA f_classif:\n",
            " ['fare', 'sex_male', 'class_Third', 'who_man', 'who_woman']\n",
            "\n",
            "Top 5 features by Chi-Square:\n",
            " ['fare', 'sex_male', 'class_Third', 'who_man', 'who_woman']\n"
          ]
        }
      ]
    },
    {
      "cell_type": "code",
      "source": [
        "from sklearn.feature_selection import SelectKBest, f_classif, chi2\n",
        "from sklearn.impute import SimpleImputer\n",
        "import pandas as pd\n",
        "\n",
        "# Separate numerical & categorical features\n",
        "num_features = ['age', 'fare', 'parch', 'sibsp']\n",
        "X_num = df[num_features]\n",
        "X_cat = pd.get_dummies(df[['sex','embarked','class','who']], drop_first=True).astype(int)\n",
        "\n",
        "# Handle missing values\n",
        "imputer_num = SimpleImputer(strategy='mean')\n",
        "X_num = pd.DataFrame(imputer_num.fit_transform(X_num), columns=num_features)\n",
        "\n",
        "# Final dataset\n",
        "X = pd.concat([X_num, X_cat], axis=1)\n",
        "y = df['survived']\n",
        "\n",
        "# --- Select top 5 with f_classif ---\n",
        "selector_f = SelectKBest(score_func=f_classif, k=5)\n",
        "selector_f.fit(X, y)\n",
        "f_results = pd.DataFrame({\n",
        "    \"Feature\": X.columns,\n",
        "    \"Score (F)\": selector_f.scores_,\n",
        "    \"p-value\": selector_f.pvalues_\n",
        "}).sort_values(by=\"Score (F)\", ascending=False)\n",
        "\n",
        "print(\"\\nTop 5 features by ANOVA f_classif:\\n\", f_results.head(5))\n",
        "\n",
        "# --- Select top 5 with chi2 ---\n",
        "selector_chi = SelectKBest(score_func=chi2, k=5)\n",
        "selector_chi.fit(abs(X), y)  # chi2 needs non-negative values\n",
        "chi_results = pd.DataFrame({\n",
        "    \"Feature\": X.columns,\n",
        "    \"Score (Chi2)\": selector_chi.scores_,\n",
        "    \"p-value\": selector_chi.pvalues_\n",
        "}).sort_values(by=\"Score (Chi2)\", ascending=False)\n",
        "\n",
        "print(\"\\nTop 5 features by Chi-Square:\\n\", chi_results.head(5))\n"
      ],
      "metadata": {
        "colab": {
          "base_uri": "https://localhost:8080/"
        },
        "id": "x1SehqJC7nsa",
        "outputId": "9ca4dd2c-4ba1-4086-d255-1774258bb4f1"
      },
      "execution_count": 96,
      "outputs": [
        {
          "output_type": "stream",
          "name": "stdout",
          "text": [
            "\n",
            "Top 5 features by ANOVA f_classif:\n",
            "         Feature   Score (F)       p-value\n",
            "9       who_man  400.037563  8.998259e-74\n",
            "4      sex_male  372.405724  1.406066e-69\n",
            "10    who_woman  306.864782  3.009426e-59\n",
            "8   class_Third  103.057599  5.510281e-23\n",
            "1          fare   99.614870  2.622660e-22\n",
            "\n",
            "Top 5 features by Chi-Square:\n",
            "         Feature  Score (Chi2)       p-value\n",
            "1          fare   1564.437823  0.000000e+00\n",
            "10    who_woman    159.095048  1.783910e-36\n",
            "9       who_man    109.859713  1.051769e-25\n",
            "4      sex_male     92.702447  6.077838e-22\n",
            "8   class_Third     41.553071  1.147141e-10\n"
          ]
        }
      ]
    }
  ]
}